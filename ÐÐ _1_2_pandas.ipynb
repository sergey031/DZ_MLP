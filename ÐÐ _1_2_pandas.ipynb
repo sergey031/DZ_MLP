{
  "cells": [
    {
      "cell_type": "markdown",
      "metadata": {
        "id": "view-in-github",
        "colab_type": "text"
      },
      "source": [
        "<a href=\"https://colab.research.google.com/github/sergey031/DZ_MLP/blob/master/%C3%90%C2%9F%C3%90%C2%A0_1_2_pandas.ipynb\" target=\"_parent\"><img src=\"https://colab.research.google.com/assets/colab-badge.svg\" alt=\"Open In Colab\"/></a>"
      ]
    },
    {
      "cell_type": "markdown",
      "metadata": {
        "id": "i7unk1VJE9Am"
      },
      "source": [
        "## Практическая работа 1-2 Pandas\n",
        "\n",
        "1. Скачайте этот ноутбук к себе.\n",
        "2. Заполните пропущенные ячейки, отвечая на заданные вопросы. Там должен быть код! (если не сказано обратное)\n",
        "3. Сохраните результат в своём гитхаб репозитории.\n",
        "\n",
        "#### Полезная литература\n",
        "\n",
        "- http://pandas.pydata.org/pandas-docs/stable/10min.html\n",
        "- https://pandas.pydata.org/pandas-docs/stable/indexing.html\n",
        "- https://pandas.pydata.org/pandas-docs/stable/missing_data.html"
      ]
    },
    {
      "cell_type": "markdown",
      "metadata": {
        "id": "Xlq65QFwE9Ao"
      },
      "source": [
        "В этом задании мы с вами рассмотрим датасет [Adult Data Set](https://archive.ics.uci.edu/ml/datasets/Adult).\n",
        "Основывается он на данных переписи населения 1994 года в США.\n",
        "\n",
        "Расшифровка содержимого колонок:\n",
        "\n",
        "- age: continuous.\n",
        "- workclass: Private, Self-emp-not-inc, Self-emp-inc, Federal-gov, Local-gov, State-gov, Without-pay, Never-worked.\n",
        "- fnlwgt: continuous. sampling weight, more here: SIPP Weighting.\n",
        "- education: Bachelors, Some-college, 11th, HS-grad, Prof-school, Assoc-acdm, Assoc-voc, 9th, 7th-8th, 12th, Masters, 1st-4th, 10th, Doctorate, 5th-6th, Preschool.\n",
        "- education-num: continuous.\n",
        "- marital-status: Married-civ-spouse, Divorced, Never-married, Separated, Widowed, Married-spouse-absent, Married-AF-spouse.\n",
        "- occupation: Tech-support, Craft-repair, Other-service, Sales, Exec-managerial, Prof-specialty, Handlers-cleaners, Machine-op-inspct, Adm-clerical, Farming-fishing, Transport-moving, Priv-house-serv, Protective-serv, Armed-Forces.\n",
        "- relationship: Wife, Own-child, Husband, Not-in-family, Other-relative, Unmarried.\n",
        "- race: White, Asian-Pac-Islander, Amer-Indian-Eskimo, Other, Black.\n",
        "- sex: Female, Male.\n",
        "- capital-gain: continuous. Income from investment sources, apart from wages/salary.\n",
        "- capital-loss: continuous. Losses from investment sources, apart from wages/salary.\n",
        "- hours-per-week: continuous.\n",
        "- native-country: United-States, Cambodia, England, Puerto-Rico, Canada, Germany, Outlying-US(Guam-USVI-etc), India, Japan, Greece, South, China, Cuba, Iran, Honduras, Philippines, Italy, Poland, Jamaica, Vietnam, Mexico, Portugal, Ireland, France, Dominican-Republic, Laos, Ecuador, Taiwan, Haiti, Columbia, Hungary, Guatemala, Nicaragua, Scotland, Thailand, Yugoslavia, El-Salvador, Trinadad&Tobago, Peru, Hong, Holand-Netherlands."
      ]
    },
    {
      "cell_type": "code",
      "execution_count": 9,
      "metadata": {
        "id": "eZ5PKMuBE9Ap",
        "outputId": "a31939eb-00aa-40b4-8337-39ea18dec0e9",
        "colab": {
          "base_uri": "https://localhost:8080/",
          "height": 35
        }
      },
      "outputs": [
        {
          "output_type": "execute_result",
          "data": {
            "text/plain": [
              "'1.5.3'"
            ],
            "application/vnd.google.colaboratory.intrinsic+json": {
              "type": "string"
            }
          },
          "metadata": {},
          "execution_count": 9
        }
      ],
      "source": [
        "%matplotlib inline\n",
        "import pandas as pd\n",
        "pd.__version__"
      ]
    },
    {
      "cell_type": "markdown",
      "metadata": {
        "id": "ctmq-26PE9Aq"
      },
      "source": [
        "Если вы увидели warning, не переживайте, всё хорошо.\n",
        "- https://stackoverflow.com/questions/40845304/runtimewarning-numpy-dtype-size-changed-may-indicate-binary-incompatibility\n",
        "- https://github.com/numpy/numpy/pull/432"
      ]
    },
    {
      "cell_type": "code",
      "execution_count": 8,
      "metadata": {
        "colab": {
          "base_uri": "https://localhost:8080/",
          "height": 292
        },
        "id": "PQkJF9xCE9Aq",
        "outputId": "65ca505c-e2f5-411a-85a1-e6a9ee323771"
      },
      "outputs": [
        {
          "output_type": "execute_result",
          "data": {
            "text/plain": [
              "   age          workclass  fnlwgt   education  education.num  \\\n",
              "0   39          State-gov   77516   Bachelors             13   \n",
              "1   50   Self-emp-not-inc   83311   Bachelors             13   \n",
              "2   38            Private  215646     HS-grad              9   \n",
              "3   53            Private  234721        11th              7   \n",
              "4   28            Private  338409   Bachelors             13   \n",
              "\n",
              "        marital.status          occupation    relationship    race      sex  \\\n",
              "0        Never-married        Adm-clerical   Not-in-family   White     Male   \n",
              "1   Married-civ-spouse     Exec-managerial         Husband   White     Male   \n",
              "2             Divorced   Handlers-cleaners   Not-in-family   White     Male   \n",
              "3   Married-civ-spouse   Handlers-cleaners         Husband   Black     Male   \n",
              "4   Married-civ-spouse      Prof-specialty            Wife   Black   Female   \n",
              "\n",
              "   capital.gain  capital.loss  hours.per.week  native.country  income  \n",
              "0          2174             0              40   United-States   <=50K  \n",
              "1             0             0              13   United-States   <=50K  \n",
              "2             0             0              40   United-States   <=50K  \n",
              "3             0             0              40   United-States   <=50K  \n",
              "4             0             0              40            Cuba   <=50K  "
            ],
            "text/html": [
              "\n",
              "  <div id=\"df-d6b7305a-d57f-4b38-a337-f1601f3df84a\" class=\"colab-df-container\">\n",
              "    <div>\n",
              "<style scoped>\n",
              "    .dataframe tbody tr th:only-of-type {\n",
              "        vertical-align: middle;\n",
              "    }\n",
              "\n",
              "    .dataframe tbody tr th {\n",
              "        vertical-align: top;\n",
              "    }\n",
              "\n",
              "    .dataframe thead th {\n",
              "        text-align: right;\n",
              "    }\n",
              "</style>\n",
              "<table border=\"1\" class=\"dataframe\">\n",
              "  <thead>\n",
              "    <tr style=\"text-align: right;\">\n",
              "      <th></th>\n",
              "      <th>age</th>\n",
              "      <th>workclass</th>\n",
              "      <th>fnlwgt</th>\n",
              "      <th>education</th>\n",
              "      <th>education.num</th>\n",
              "      <th>marital.status</th>\n",
              "      <th>occupation</th>\n",
              "      <th>relationship</th>\n",
              "      <th>race</th>\n",
              "      <th>sex</th>\n",
              "      <th>capital.gain</th>\n",
              "      <th>capital.loss</th>\n",
              "      <th>hours.per.week</th>\n",
              "      <th>native.country</th>\n",
              "      <th>income</th>\n",
              "    </tr>\n",
              "  </thead>\n",
              "  <tbody>\n",
              "    <tr>\n",
              "      <th>0</th>\n",
              "      <td>39</td>\n",
              "      <td>State-gov</td>\n",
              "      <td>77516</td>\n",
              "      <td>Bachelors</td>\n",
              "      <td>13</td>\n",
              "      <td>Never-married</td>\n",
              "      <td>Adm-clerical</td>\n",
              "      <td>Not-in-family</td>\n",
              "      <td>White</td>\n",
              "      <td>Male</td>\n",
              "      <td>2174</td>\n",
              "      <td>0</td>\n",
              "      <td>40</td>\n",
              "      <td>United-States</td>\n",
              "      <td>&lt;=50K</td>\n",
              "    </tr>\n",
              "    <tr>\n",
              "      <th>1</th>\n",
              "      <td>50</td>\n",
              "      <td>Self-emp-not-inc</td>\n",
              "      <td>83311</td>\n",
              "      <td>Bachelors</td>\n",
              "      <td>13</td>\n",
              "      <td>Married-civ-spouse</td>\n",
              "      <td>Exec-managerial</td>\n",
              "      <td>Husband</td>\n",
              "      <td>White</td>\n",
              "      <td>Male</td>\n",
              "      <td>0</td>\n",
              "      <td>0</td>\n",
              "      <td>13</td>\n",
              "      <td>United-States</td>\n",
              "      <td>&lt;=50K</td>\n",
              "    </tr>\n",
              "    <tr>\n",
              "      <th>2</th>\n",
              "      <td>38</td>\n",
              "      <td>Private</td>\n",
              "      <td>215646</td>\n",
              "      <td>HS-grad</td>\n",
              "      <td>9</td>\n",
              "      <td>Divorced</td>\n",
              "      <td>Handlers-cleaners</td>\n",
              "      <td>Not-in-family</td>\n",
              "      <td>White</td>\n",
              "      <td>Male</td>\n",
              "      <td>0</td>\n",
              "      <td>0</td>\n",
              "      <td>40</td>\n",
              "      <td>United-States</td>\n",
              "      <td>&lt;=50K</td>\n",
              "    </tr>\n",
              "    <tr>\n",
              "      <th>3</th>\n",
              "      <td>53</td>\n",
              "      <td>Private</td>\n",
              "      <td>234721</td>\n",
              "      <td>11th</td>\n",
              "      <td>7</td>\n",
              "      <td>Married-civ-spouse</td>\n",
              "      <td>Handlers-cleaners</td>\n",
              "      <td>Husband</td>\n",
              "      <td>Black</td>\n",
              "      <td>Male</td>\n",
              "      <td>0</td>\n",
              "      <td>0</td>\n",
              "      <td>40</td>\n",
              "      <td>United-States</td>\n",
              "      <td>&lt;=50K</td>\n",
              "    </tr>\n",
              "    <tr>\n",
              "      <th>4</th>\n",
              "      <td>28</td>\n",
              "      <td>Private</td>\n",
              "      <td>338409</td>\n",
              "      <td>Bachelors</td>\n",
              "      <td>13</td>\n",
              "      <td>Married-civ-spouse</td>\n",
              "      <td>Prof-specialty</td>\n",
              "      <td>Wife</td>\n",
              "      <td>Black</td>\n",
              "      <td>Female</td>\n",
              "      <td>0</td>\n",
              "      <td>0</td>\n",
              "      <td>40</td>\n",
              "      <td>Cuba</td>\n",
              "      <td>&lt;=50K</td>\n",
              "    </tr>\n",
              "  </tbody>\n",
              "</table>\n",
              "</div>\n",
              "    <div class=\"colab-df-buttons\">\n",
              "\n",
              "  <div class=\"colab-df-container\">\n",
              "    <button class=\"colab-df-convert\" onclick=\"convertToInteractive('df-d6b7305a-d57f-4b38-a337-f1601f3df84a')\"\n",
              "            title=\"Convert this dataframe to an interactive table.\"\n",
              "            style=\"display:none;\">\n",
              "\n",
              "  <svg xmlns=\"http://www.w3.org/2000/svg\" height=\"24px\" viewBox=\"0 -960 960 960\">\n",
              "    <path d=\"M120-120v-720h720v720H120Zm60-500h600v-160H180v160Zm220 220h160v-160H400v160Zm0 220h160v-160H400v160ZM180-400h160v-160H180v160Zm440 0h160v-160H620v160ZM180-180h160v-160H180v160Zm440 0h160v-160H620v160Z\"/>\n",
              "  </svg>\n",
              "    </button>\n",
              "\n",
              "  <style>\n",
              "    .colab-df-container {\n",
              "      display:flex;\n",
              "      gap: 12px;\n",
              "    }\n",
              "\n",
              "    .colab-df-convert {\n",
              "      background-color: #E8F0FE;\n",
              "      border: none;\n",
              "      border-radius: 50%;\n",
              "      cursor: pointer;\n",
              "      display: none;\n",
              "      fill: #1967D2;\n",
              "      height: 32px;\n",
              "      padding: 0 0 0 0;\n",
              "      width: 32px;\n",
              "    }\n",
              "\n",
              "    .colab-df-convert:hover {\n",
              "      background-color: #E2EBFA;\n",
              "      box-shadow: 0px 1px 2px rgba(60, 64, 67, 0.3), 0px 1px 3px 1px rgba(60, 64, 67, 0.15);\n",
              "      fill: #174EA6;\n",
              "    }\n",
              "\n",
              "    .colab-df-buttons div {\n",
              "      margin-bottom: 4px;\n",
              "    }\n",
              "\n",
              "    [theme=dark] .colab-df-convert {\n",
              "      background-color: #3B4455;\n",
              "      fill: #D2E3FC;\n",
              "    }\n",
              "\n",
              "    [theme=dark] .colab-df-convert:hover {\n",
              "      background-color: #434B5C;\n",
              "      box-shadow: 0px 1px 3px 1px rgba(0, 0, 0, 0.15);\n",
              "      filter: drop-shadow(0px 1px 2px rgba(0, 0, 0, 0.3));\n",
              "      fill: #FFFFFF;\n",
              "    }\n",
              "  </style>\n",
              "\n",
              "    <script>\n",
              "      const buttonEl =\n",
              "        document.querySelector('#df-d6b7305a-d57f-4b38-a337-f1601f3df84a button.colab-df-convert');\n",
              "      buttonEl.style.display =\n",
              "        google.colab.kernel.accessAllowed ? 'block' : 'none';\n",
              "\n",
              "      async function convertToInteractive(key) {\n",
              "        const element = document.querySelector('#df-d6b7305a-d57f-4b38-a337-f1601f3df84a');\n",
              "        const dataTable =\n",
              "          await google.colab.kernel.invokeFunction('convertToInteractive',\n",
              "                                                    [key], {});\n",
              "        if (!dataTable) return;\n",
              "\n",
              "        const docLinkHtml = 'Like what you see? Visit the ' +\n",
              "          '<a target=\"_blank\" href=https://colab.research.google.com/notebooks/data_table.ipynb>data table notebook</a>'\n",
              "          + ' to learn more about interactive tables.';\n",
              "        element.innerHTML = '';\n",
              "        dataTable['output_type'] = 'display_data';\n",
              "        await google.colab.output.renderOutput(dataTable, element);\n",
              "        const docLink = document.createElement('div');\n",
              "        docLink.innerHTML = docLinkHtml;\n",
              "        element.appendChild(docLink);\n",
              "      }\n",
              "    </script>\n",
              "  </div>\n",
              "\n",
              "\n",
              "<div id=\"df-52e5de21-6435-4ba3-a9b1-5a3b7ef3e070\">\n",
              "  <button class=\"colab-df-quickchart\" onclick=\"quickchart('df-52e5de21-6435-4ba3-a9b1-5a3b7ef3e070')\"\n",
              "            title=\"Suggest charts.\"\n",
              "            style=\"display:none;\">\n",
              "\n",
              "<svg xmlns=\"http://www.w3.org/2000/svg\" height=\"24px\"viewBox=\"0 0 24 24\"\n",
              "     width=\"24px\">\n",
              "    <g>\n",
              "        <path d=\"M19 3H5c-1.1 0-2 .9-2 2v14c0 1.1.9 2 2 2h14c1.1 0 2-.9 2-2V5c0-1.1-.9-2-2-2zM9 17H7v-7h2v7zm4 0h-2V7h2v10zm4 0h-2v-4h2v4z\"/>\n",
              "    </g>\n",
              "</svg>\n",
              "  </button>\n",
              "\n",
              "<style>\n",
              "  .colab-df-quickchart {\n",
              "      --bg-color: #E8F0FE;\n",
              "      --fill-color: #1967D2;\n",
              "      --hover-bg-color: #E2EBFA;\n",
              "      --hover-fill-color: #174EA6;\n",
              "      --disabled-fill-color: #AAA;\n",
              "      --disabled-bg-color: #DDD;\n",
              "  }\n",
              "\n",
              "  [theme=dark] .colab-df-quickchart {\n",
              "      --bg-color: #3B4455;\n",
              "      --fill-color: #D2E3FC;\n",
              "      --hover-bg-color: #434B5C;\n",
              "      --hover-fill-color: #FFFFFF;\n",
              "      --disabled-bg-color: #3B4455;\n",
              "      --disabled-fill-color: #666;\n",
              "  }\n",
              "\n",
              "  .colab-df-quickchart {\n",
              "    background-color: var(--bg-color);\n",
              "    border: none;\n",
              "    border-radius: 50%;\n",
              "    cursor: pointer;\n",
              "    display: none;\n",
              "    fill: var(--fill-color);\n",
              "    height: 32px;\n",
              "    padding: 0;\n",
              "    width: 32px;\n",
              "  }\n",
              "\n",
              "  .colab-df-quickchart:hover {\n",
              "    background-color: var(--hover-bg-color);\n",
              "    box-shadow: 0 1px 2px rgba(60, 64, 67, 0.3), 0 1px 3px 1px rgba(60, 64, 67, 0.15);\n",
              "    fill: var(--button-hover-fill-color);\n",
              "  }\n",
              "\n",
              "  .colab-df-quickchart-complete:disabled,\n",
              "  .colab-df-quickchart-complete:disabled:hover {\n",
              "    background-color: var(--disabled-bg-color);\n",
              "    fill: var(--disabled-fill-color);\n",
              "    box-shadow: none;\n",
              "  }\n",
              "\n",
              "  .colab-df-spinner {\n",
              "    border: 2px solid var(--fill-color);\n",
              "    border-color: transparent;\n",
              "    border-bottom-color: var(--fill-color);\n",
              "    animation:\n",
              "      spin 1s steps(1) infinite;\n",
              "  }\n",
              "\n",
              "  @keyframes spin {\n",
              "    0% {\n",
              "      border-color: transparent;\n",
              "      border-bottom-color: var(--fill-color);\n",
              "      border-left-color: var(--fill-color);\n",
              "    }\n",
              "    20% {\n",
              "      border-color: transparent;\n",
              "      border-left-color: var(--fill-color);\n",
              "      border-top-color: var(--fill-color);\n",
              "    }\n",
              "    30% {\n",
              "      border-color: transparent;\n",
              "      border-left-color: var(--fill-color);\n",
              "      border-top-color: var(--fill-color);\n",
              "      border-right-color: var(--fill-color);\n",
              "    }\n",
              "    40% {\n",
              "      border-color: transparent;\n",
              "      border-right-color: var(--fill-color);\n",
              "      border-top-color: var(--fill-color);\n",
              "    }\n",
              "    60% {\n",
              "      border-color: transparent;\n",
              "      border-right-color: var(--fill-color);\n",
              "    }\n",
              "    80% {\n",
              "      border-color: transparent;\n",
              "      border-right-color: var(--fill-color);\n",
              "      border-bottom-color: var(--fill-color);\n",
              "    }\n",
              "    90% {\n",
              "      border-color: transparent;\n",
              "      border-bottom-color: var(--fill-color);\n",
              "    }\n",
              "  }\n",
              "</style>\n",
              "\n",
              "  <script>\n",
              "    async function quickchart(key) {\n",
              "      const quickchartButtonEl =\n",
              "        document.querySelector('#' + key + ' button');\n",
              "      quickchartButtonEl.disabled = true;  // To prevent multiple clicks.\n",
              "      quickchartButtonEl.classList.add('colab-df-spinner');\n",
              "      try {\n",
              "        const charts = await google.colab.kernel.invokeFunction(\n",
              "            'suggestCharts', [key], {});\n",
              "      } catch (error) {\n",
              "        console.error('Error during call to suggestCharts:', error);\n",
              "      }\n",
              "      quickchartButtonEl.classList.remove('colab-df-spinner');\n",
              "      quickchartButtonEl.classList.add('colab-df-quickchart-complete');\n",
              "    }\n",
              "    (() => {\n",
              "      let quickchartButtonEl =\n",
              "        document.querySelector('#df-52e5de21-6435-4ba3-a9b1-5a3b7ef3e070 button');\n",
              "      quickchartButtonEl.style.display =\n",
              "        google.colab.kernel.accessAllowed ? 'block' : 'none';\n",
              "    })();\n",
              "  </script>\n",
              "</div>\n",
              "    </div>\n",
              "  </div>\n"
            ]
          },
          "metadata": {},
          "execution_count": 8
        }
      ],
      "source": [
        "columns='age,workclass,fnlwgt,education,education.num,marital.status,occupation,relationship,race,sex,capital.gain,capital.loss,hours.per.week,native.country,income'.split(',')\n",
        "# df = pd.read_csv('../../data/adult.csv.gz', na_values='?') # можно загрузить из файла или URL\n",
        "df = pd.read_csv('https://archive.ics.uci.edu/ml/machine-learning-databases/adult/adult.data', na_values='?', names=columns)\n",
        "df.head()"
      ]
    },
    {
      "cell_type": "markdown",
      "metadata": {
        "id": "JDY9KNgmE9Ar"
      },
      "source": [
        "1) Выведите последние 10 элеметнов датасета"
      ]
    },
    {
      "cell_type": "code",
      "execution_count": 7,
      "metadata": {
        "colab": {
          "base_uri": "https://localhost:8080/"
        },
        "id": "X83p9AjGE9Ar",
        "outputId": "24ce2c47-c1f1-4f29-b925-e8af2db56ab4"
      },
      "outputs": [
        {
          "output_type": "stream",
          "name": "stdout",
          "text": [
            "       age      workclass  fnlwgt      education  education.num  \\\n",
            "32551   32        Private   34066           10th              6   \n",
            "32552   43        Private   84661      Assoc-voc             11   \n",
            "32553   32        Private  116138        Masters             14   \n",
            "32554   53        Private  321865        Masters             14   \n",
            "32555   22        Private  310152   Some-college             10   \n",
            "32556   27        Private  257302     Assoc-acdm             12   \n",
            "32557   40        Private  154374        HS-grad              9   \n",
            "32558   58        Private  151910        HS-grad              9   \n",
            "32559   22        Private  201490        HS-grad              9   \n",
            "32560   52   Self-emp-inc  287927        HS-grad              9   \n",
            "\n",
            "            marital.status          occupation    relationship  \\\n",
            "32551   Married-civ-spouse   Handlers-cleaners         Husband   \n",
            "32552   Married-civ-spouse               Sales         Husband   \n",
            "32553        Never-married        Tech-support   Not-in-family   \n",
            "32554   Married-civ-spouse     Exec-managerial         Husband   \n",
            "32555        Never-married     Protective-serv   Not-in-family   \n",
            "32556   Married-civ-spouse        Tech-support            Wife   \n",
            "32557   Married-civ-spouse   Machine-op-inspct         Husband   \n",
            "32558              Widowed        Adm-clerical       Unmarried   \n",
            "32559        Never-married        Adm-clerical       Own-child   \n",
            "32560   Married-civ-spouse     Exec-managerial            Wife   \n",
            "\n",
            "                      race      sex  capital.gain  capital.loss  \\\n",
            "32551   Amer-Indian-Eskimo     Male             0             0   \n",
            "32552                White     Male             0             0   \n",
            "32553   Asian-Pac-Islander     Male             0             0   \n",
            "32554                White     Male             0             0   \n",
            "32555                White     Male             0             0   \n",
            "32556                White   Female             0             0   \n",
            "32557                White     Male             0             0   \n",
            "32558                White   Female             0             0   \n",
            "32559                White     Male             0             0   \n",
            "32560                White   Female         15024             0   \n",
            "\n",
            "       hours.per.week  native.country  income  \n",
            "32551              40   United-States   <=50K  \n",
            "32552              45   United-States   <=50K  \n",
            "32553              11          Taiwan   <=50K  \n",
            "32554              40   United-States    >50K  \n",
            "32555              40   United-States   <=50K  \n",
            "32556              38   United-States   <=50K  \n",
            "32557              40   United-States    >50K  \n",
            "32558              40   United-States   <=50K  \n",
            "32559              20   United-States   <=50K  \n",
            "32560              40   United-States    >50K  \n"
          ]
        }
      ],
      "source": [
        "import pandas as pd\n",
        "\n",
        "df = pd.read_csv('https://archive.ics.uci.edu/ml/machine-learning-databases/adult/adult.data', na_values='?', names=columns)\n",
        "\n",
        "last_10_rows = df.tail(10)\n",
        "print(last_10_rows)"
      ]
    },
    {
      "cell_type": "markdown",
      "metadata": {
        "id": "XCmpSKrBE9As"
      },
      "source": [
        "2) Сколько колонок и сколько строк в этом датасете?"
      ]
    },
    {
      "cell_type": "code",
      "execution_count": 6,
      "metadata": {
        "colab": {
          "base_uri": "https://localhost:8080/"
        },
        "id": "WbhxUu7nE9As",
        "outputId": "e3bb199f-abdb-430a-b7bf-f7b3e0e9f987"
      },
      "outputs": [
        {
          "output_type": "stream",
          "name": "stdout",
          "text": [
            "строк: 32561\n",
            "колонок: 15\n"
          ]
        }
      ],
      "source": [
        "import pandas as pd\n",
        "\n",
        "df = pd.read_csv('https://archive.ics.uci.edu/ml/machine-learning-databases/adult/adult.data', na_values='?', names=columns)\n",
        "\n",
        "num_rows, num_columns = df.shape\n",
        "\n",
        "print(f\"строк: {num_rows}\")\n",
        "print(f\"колонок: {num_columns}\")"
      ]
    },
    {
      "cell_type": "markdown",
      "metadata": {
        "id": "aITJ1npNE9As"
      },
      "source": [
        "3) Какие типы данных у элементов этого датасета?"
      ]
    },
    {
      "cell_type": "code",
      "execution_count": 5,
      "metadata": {
        "colab": {
          "base_uri": "https://localhost:8080/"
        },
        "id": "A11iUSagE9As",
        "outputId": "cb6b4126-9c1b-4f3d-9c12-235e8fc1402e"
      },
      "outputs": [
        {
          "output_type": "stream",
          "name": "stdout",
          "text": [
            "age                int64\n",
            "workclass         object\n",
            "fnlwgt             int64\n",
            "education         object\n",
            "education.num      int64\n",
            "marital.status    object\n",
            "occupation        object\n",
            "relationship      object\n",
            "race              object\n",
            "sex               object\n",
            "capital.gain       int64\n",
            "capital.loss       int64\n",
            "hours.per.week     int64\n",
            "native.country    object\n",
            "income            object\n",
            "dtype: object\n"
          ]
        }
      ],
      "source": [
        "import pandas as pd\n",
        "\n",
        "df = pd.read_csv('https://archive.ics.uci.edu/ml/machine-learning-databases/adult/adult.data', na_values='?', names=columns)\n",
        "data_types = df.dtypes\n",
        "\n",
        "print(data_types)"
      ]
    },
    {
      "cell_type": "markdown",
      "metadata": {
        "id": "cJM5SKAUE9As"
      },
      "source": [
        "4) Какие признаки имеют пропуски?"
      ]
    },
    {
      "cell_type": "code",
      "execution_count": 4,
      "metadata": {
        "colab": {
          "base_uri": "https://localhost:8080/"
        },
        "id": "nboX2ZkGE9At",
        "outputId": "6fe82934-b0c0-4e3f-b2f7-8481237c921f"
      },
      "outputs": [
        {
          "output_type": "stream",
          "name": "stdout",
          "text": [
            "Series([], dtype: int64)\n"
          ]
        }
      ],
      "source": [
        "import pandas as pd\n",
        "\n",
        "df = pd.read_csv('https://archive.ics.uci.edu/ml/machine-learning-databases/adult/adult.data', na_values='?', names=columns)\n",
        "missing_values = df.isnull().sum()\n",
        "columns_with_missing_values = missing_values[missing_values > 0]\n",
        "\n",
        "print(columns_with_missing_values)"
      ]
    },
    {
      "cell_type": "markdown",
      "metadata": {
        "id": "MyG1czN4E9At"
      },
      "source": [
        "5) Как вы думаете, с чем связаны пропуски этих значение. Напишите развернутый ответ в ячейке ниже."
      ]
    },
    {
      "cell_type": "markdown",
      "metadata": {
        "id": "NKq-zerxE9At"
      },
      "source": [
        "Ваш ответ:"
      ]
    },
    {
      "cell_type": "markdown",
      "metadata": {
        "id": "AAdtkRgLE9Au"
      },
      "source": [
        "6) Какие и сколько различных рабочих классов workclass представлено в выборке?"
      ]
    },
    {
      "cell_type": "code",
      "execution_count": 2,
      "metadata": {
        "colab": {
          "base_uri": "https://localhost:8080/"
        },
        "id": "wUcsOV8xE9Au",
        "outputId": "25f4bd4a-3cdc-4f58-c41f-45852ac4f319"
      },
      "outputs": [
        {
          "output_type": "stream",
          "name": "stdout",
          "text": [
            "Различных рабочих классов: 9\n",
            "Список различных рабочих классов: [' State-gov' ' Self-emp-not-inc' ' Private' ' Federal-gov' ' Local-gov'\n",
            " ' ?' ' Self-emp-inc' ' Without-pay' ' Never-worked']\n"
          ]
        }
      ],
      "source": [
        "import pandas as pd\n",
        "columns='age,workclass,fnlwgt,education,education.num,marital.status,occupation,relationship,race,sex,capital.gain,capital.loss,hours.per.week,native.country,income'.split(',')\n",
        "df = pd.read_csv('https://archive.ics.uci.edu/ml/machine-learning-databases/adult/adult.data', na_values='?', names=columns)\n",
        "\n",
        "unique_workclass = df['workclass'].unique()\n",
        "\n",
        "num_unique_workclass = len(unique_workclass)\n",
        "\n",
        "print(\"Различных рабочих классов:\", num_unique_workclass)\n",
        "print(\"Список различных рабочих классов:\", unique_workclass)"
      ]
    },
    {
      "cell_type": "markdown",
      "metadata": {
        "id": "NHqdv6snE9Au"
      },
      "source": [
        "7) Какой средний возраст женщин и мужчин?"
      ]
    },
    {
      "cell_type": "code",
      "execution_count": 3,
      "metadata": {
        "id": "OoDwYoTOE9Au",
        "colab": {
          "base_uri": "https://localhost:8080/"
        },
        "outputId": "ea70dda8-b79f-4562-8351-38baf4de3a6b"
      },
      "outputs": [
        {
          "output_type": "stream",
          "name": "stdout",
          "text": [
            "sex\n",
            " Female    36.858230\n",
            " Male      39.433547\n",
            "Name: age, dtype: float64\n"
          ]
        }
      ],
      "source": [
        "import pandas as pd\n",
        "\n",
        "df = pd.read_csv('https://archive.ics.uci.edu/ml/machine-learning-databases/adult/adult.data', na_values='?', names=columns)\n",
        "\n",
        "average_age_by_gender = df.groupby('sex')['age'].mean()\n",
        "print(average_age_by_gender)"
      ]
    },
    {
      "cell_type": "markdown",
      "metadata": {
        "id": "HymDXkXHE9Av"
      },
      "source": [
        "8) Постройте гистограмму(bar) распределения образования людей (education)"
      ]
    },
    {
      "cell_type": "code",
      "execution_count": 10,
      "metadata": {
        "id": "oP09Pb8hE9Av",
        "colab": {
          "base_uri": "https://localhost:8080/",
          "height": 607
        },
        "outputId": "8a9c487c-24d8-4073-9c8d-1a62eed910ee"
      },
      "outputs": [
        {
          "output_type": "display_data",
          "data": {
            "text/plain": [
              "<Figure size 1000x600 with 1 Axes>"
            ],
            "image/png": "[encoded data removed]"
          },
          "metadata": {}
        }
      ],
      "source": [
        "import pandas as pd\n",
        "import matplotlib.pyplot as plt\n",
        "\n",
        "df = pd.read_csv('https://archive.ics.uci.edu/ml/machine-learning-databases/adult/adult.data', na_values='?', names=columns)\n",
        "education_counts = df['education'].value_counts()\n",
        "\n",
        "plt.figure(figsize=(10, 6))\n",
        "education_counts.plot(kind='bar', color='skyblue')\n",
        "plt.title('Распределение образования людей')\n",
        "plt.xlabel('Образование')\n",
        "plt.ylabel('Число людей')\n",
        "plt.xticks(rotation=45)\n",
        "plt.tight_layout()\n",
        "\n",
        "plt.show()"
      ]
    },
    {
      "cell_type": "markdown",
      "metadata": {
        "id": "8vGH2u-JE9Av"
      },
      "source": [
        "9) Каковы средние значения и среднеквадратичные отклонения возраста тех, кто получает более 50K в год (признак salary) и тех, кто получает менее 50K в год?"
      ]
    },
    {
      "cell_type": "code",
      "execution_count": 14,
      "metadata": {
        "id": "w81AzWneE9Av",
        "colab": {
          "base_uri": "https://localhost:8080/"
        },
        "outputId": "4e59c779-fcdf-43f4-d2fd-eea9b3593c8c"
      },
      "outputs": [
        {
          "output_type": "stream",
          "name": "stdout",
          "text": [
            "Средний возраст для тех, кто получает более 50K в год: 44.25 лет\n",
            "Среднеквадратичное отклонение возраста для тех, кто получает более 50K в год: 10.52 лет\n",
            "Средний возраст для тех, кто получает менее 50K в год: 36.78 лет\n",
            "Среднеквадратичное отклонение возраста для тех, кто получает менее 50K в год: 14.02 лет\n"
          ]
        }
      ],
      "source": [
        "import pandas as pd\n",
        "\n",
        "columns = 'age,workclass,fnlwgt,education,education.num,marital.status,occupation,relationship,race,sex,capital.gain,capital.loss,hours.per.week,native.country,income'.split(',')\n",
        "df = pd.read_csv('https://archive.ics.uci.edu/ml/machine-learning-databases/adult/adult.data', na_values='?', names=columns)\n",
        "\n",
        "high_income_group = df[df['income'] == ' >50K']\n",
        "low_income_group = df[df['income'] == ' <=50K']\n",
        "\n",
        "avg_age_high_income = high_income_group['age'].mean()\n",
        "std_age_high_income = high_income_group['age'].std()\n",
        "\n",
        "avg_age_low_income = low_income_group['age'].mean()\n",
        "std_age_low_income = low_income_group['age'].std()\n",
        "\n",
        "print(f\"Средний возраст для тех, кто получает более 50K в год: {avg_age_high_income:.2f} лет\")\n",
        "print(f\"Среднеквадратичное отклонение возраста для тех, кто получает более 50K в год: {std_age_high_income:.2f} лет\")\n",
        "\n",
        "print(f\"Средний возраст для тех, кто получает менее 50K в год: {avg_age_low_income:.2f} лет\")\n",
        "print(f\"Среднеквадратичное отклонение возраста для тех, кто получает менее 50K в год: {std_age_low_income:.2f} лет\")\n"
      ]
    },
    {
      "cell_type": "markdown",
      "metadata": {
        "id": "aUUy8f0wE9Aw"
      },
      "source": [
        "10) Правда ли, что люди, которые получают больше 50k, имеют как минимум высшее образование? (признак education - Bachelors, Prof-school, Assoc-acdm, Assoc-voc, Masters или Doctorate)"
      ]
    },
    {
      "cell_type": "code",
      "execution_count": 16,
      "metadata": {
        "id": "qAfdYEvsE9Aw",
        "colab": {
          "base_uri": "https://localhost:8080/"
        },
        "outputId": "92e5313d-ce51-43bb-c9c7-3bf55dd34fd9"
      },
      "outputs": [
        {
          "output_type": "stream",
          "name": "stdout",
          "text": [
            "Да, люди, которые получают больше 50K, имеют как минимум высшее образование.\n"
          ]
        }
      ],
      "source": [
        "import pandas as pd\n",
        "\n",
        "columns = 'age,workclass,fnlwgt,education,education.num,marital.status,occupation,relationship,race,sex,capital.gain,capital.loss,hours.per.week,native.country,income'.split(',')\n",
        "df = pd.read_csv('https://archive.ics.uci.edu/ml/machine-learning-databases/adult/adult.data', na_values='?', names=columns)\n",
        "\n",
        "high_income_education_filter = ((df['income'] == ' >50K') & (df['education'].isin([' Bachelors', ' Prof-school', ' Assoc-acdm', ' Assoc-voc', ' Masters', ' Doctorate'])))\n",
        "\n",
        "has_high_income_education = any(high_income_education_filter)\n",
        "\n",
        "if has_high_income_education:\n",
        "    print(\"Да, люди, которые получают больше 50K, имеют как минимум высшее образование.\")\n",
        "else:\n",
        "    print(\"Нет, не все люди, которые получают больше 50K, имеют высшее образование.\")\n"
      ]
    },
    {
      "cell_type": "markdown",
      "metadata": {
        "id": "HatJMMSCE9Aw"
      },
      "source": [
        "11) Среди кого больше доля зарабатывающих много (>50K): среди женатых или холостых мужчин (признак marital-status)? Женатыми считаем тех, у кого marital-status начинается с Married (Married-civ-spouse, Married-spouse-absent или Married-AF-spouse), остальных считаем холостыми."
      ]
    },
    {
      "cell_type": "code",
      "execution_count": 18,
      "metadata": {
        "id": "QC984-7mE9Aw",
        "colab": {
          "base_uri": "https://localhost:8080/"
        },
        "outputId": "7cc1e566-9c21-47fc-8478-b8d4808a0e90"
      },
      "outputs": [
        {
          "output_type": "stream",
          "name": "stdout",
          "text": [
            "Среди женатых мужчин больше доля зарабатывающих много (>50K).\n"
          ]
        }
      ],
      "source": [
        "import pandas as pd\n",
        "\n",
        "columns = 'age,workclass,fnlwgt,education,education.num,marital.status,occupation,relationship,race,sex,capital.gain,capital.loss,hours.per.week,native.country,income'.split(',')\n",
        "df = pd.read_csv('https://archive.ics.uci.edu/ml/machine-learning-databases/adult/adult.data', na_values='?', names=columns)\n",
        "\n",
        "married_categories = [' Married-civ-spouse', ' Married-spouse-absent', ' Married-AF-spouse']\n",
        "single_categories = [' Never-married', ' Separated', ' Divorced', ' Widowed']\n",
        "\n",
        "married_high_income_filter = df[(df['marital.status'].isin(married_categories)) & (df['income'] == ' >50K')]\n",
        "single_high_income_filter = df[(df['marital.status'].isin(single_categories)) & (df['income'] == ' >50K')]\n",
        "\n",
        "married_high_income_ratio = len(married_high_income_filter) / len(df[df['marital.status'].isin(married_categories)])\n",
        "single_high_income_ratio = len(single_high_income_filter) / len(df[df['marital.status'].isin(single_categories)])\n",
        "\n",
        "if married_high_income_ratio > single_high_income_ratio:\n",
        "    print(\"Среди женатых мужчин больше доля зарабатывающих много (>50K).\")\n",
        "elif married_high_income_ratio < single_high_income_ratio:\n",
        "    print(\"Среди холостых мужчин больше доля зарабатывающих много (>50K).\")\n",
        "else:\n",
        "    print(\"Доли зарабатывающих много (>50K) среди женатых и холостых мужчин равны.\")\n"
      ]
    },
    {
      "cell_type": "markdown",
      "metadata": {
        "id": "Z4ZLHkLNE9Aw"
      },
      "source": [
        "12) Посчитайте среднее время работы (hours-per-week) зарабатывающих мало и много (salary) для каждой страны (native-country)."
      ]
    },
    {
      "cell_type": "code",
      "execution_count": 20,
      "metadata": {
        "id": "UGp0-4EKE9Ax",
        "colab": {
          "base_uri": "https://localhost:8080/"
        },
        "outputId": "b3440458-9857-451c-8a53-ff0ccc283573"
      },
      "outputs": [
        {
          "output_type": "stream",
          "name": "stdout",
          "text": [
            "income                           <=50K       >50K\n",
            "native.country                                   \n",
            " ?                           40.164760  45.547945\n",
            " Cambodia                    41.416667  40.000000\n",
            " Canada                      37.914634  45.641026\n",
            " China                       37.381818  38.900000\n",
            " Columbia                    38.684211  50.000000\n",
            " Cuba                        37.985714  42.440000\n",
            " Dominican-Republic          42.338235  47.000000\n",
            " Ecuador                     38.041667  48.750000\n",
            " El-Salvador                 36.030928  45.000000\n",
            " England                     40.483333  44.533333\n",
            " France                      41.058824  50.750000\n",
            " Germany                     39.139785  44.977273\n",
            " Greece                      41.809524  50.625000\n",
            " Guatemala                   39.360656  36.666667\n",
            " Haiti                       36.325000  42.750000\n",
            " Holand-Netherlands          40.000000        NaN\n",
            " Honduras                    34.333333  60.000000\n",
            " Hong                        39.142857  45.000000\n",
            " Hungary                     31.300000  50.000000\n",
            " India                       38.233333  46.475000\n",
            " Iran                        41.440000  47.500000\n",
            " Ireland                     40.947368  48.000000\n",
            " Italy                       39.625000  45.400000\n",
            " Jamaica                     38.239437  41.100000\n",
            " Japan                       41.000000  47.958333\n",
            " Laos                        40.375000  40.000000\n",
            " Mexico                      40.003279  46.575758\n",
            " Nicaragua                   36.093750  37.500000\n",
            " Outlying-US(Guam-USVI-etc)  41.857143        NaN\n",
            " Peru                        35.068966  40.000000\n",
            " Philippines                 38.065693  43.032787\n",
            " Poland                      38.166667  39.000000\n",
            " Portugal                    41.939394  41.500000\n",
            " Puerto-Rico                 38.470588  39.416667\n",
            " Scotland                    39.444444  46.666667\n",
            " South                       40.156250  51.437500\n",
            " Taiwan                      33.774194  46.800000\n",
            " Thailand                    42.866667  58.333333\n",
            " Trinadad&Tobago             37.058824  40.000000\n",
            " United-States               38.799127  45.505369\n",
            " Vietnam                     37.193548  39.200000\n",
            " Yugoslavia                  41.600000  49.500000\n"
          ]
        }
      ],
      "source": [
        "import pandas as pd\n",
        "\n",
        "columns = 'age,workclass,fnlwgt,education,education.num,marital.status,occupation,relationship,race,sex,capital.gain,capital.loss,hours.per.week,native.country,income'.split(',')\n",
        "df = pd.read_csv('https://archive.ics.uci.edu/ml/machine-learning-databases/adult/adult.data', na_values='?', names=columns)\n",
        "\n",
        "result = df.groupby(['native.country', 'income'])['hours.per.week'].mean().unstack()\n",
        "\n",
        "print(result)\n"
      ]
    },
    {
      "cell_type": "markdown",
      "metadata": {
        "id": "BoYYUqlhE9Ax"
      },
      "source": [
        "13) Постройте сводную таблицу для сравнения уровня образования и разницы между capital.gain и capital.loss (то есть пассивный доход). Сделайте так, чтобы capital.gain - capital.loss создали не больше 10 разных уникальных значений. То есть, gain и loss - это числа в каком-то диапазоне. Это количественные признаки из вещественных чисел. С помощью математических функций, типа log, извлечение корня N-ой степени и округления можно перейти к категориальным признакам."
      ]
    },
    {
      "cell_type": "code",
      "execution_count": 22,
      "metadata": {
        "id": "DFWsjPnsE9Ax",
        "colab": {
          "base_uri": "https://localhost:8080/"
        },
        "outputId": "164a720c-b379-4cc5-f386-0aee63ed0a20"
      },
      "outputs": [
        {
          "output_type": "stream",
          "name": "stdout",
          "text": [
            "capital.diff.category  High Gain  Medium Gain  Medium Loss  No Gain/Loss  \\\n",
            "education                                                                  \n",
            " 10th                         10           28           27           865   \n",
            " 11th                         21           27           31          1089   \n",
            " 12th                          8           11            8           403   \n",
            " 1st-4th                       1            4            4           159   \n",
            " 5th-6th                       5            9           11           308   \n",
            " 7th-8th                       8           33           22           582   \n",
            " 9th                           3           24            8           474   \n",
            " Assoc-acdm                   49           33           52           930   \n",
            " Assoc-voc                    71           61           52          1194   \n",
            " Bachelors                   486          144          332          4384   \n",
            " Doctorate                    64           11           53           284   \n",
            " HS-grad                     307          358          392          9415   \n",
            " Masters                     224           48          146          1300   \n",
            " Preschool                     1            1            2            47   \n",
            " Prof-school                 137           12           64           363   \n",
            " Some-college                253          205          279          6533   \n",
            "\n",
            "capital.diff.category  Small Gain  Small Loss  \n",
            "education                                      \n",
            " 10th                           2           1  \n",
            " 11th                           5           2  \n",
            " 12th                           3           0  \n",
            " 1st-4th                        0           0  \n",
            " 5th-6th                        0           0  \n",
            " 7th-8th                        0           1  \n",
            " 9th                            4           1  \n",
            " Assoc-acdm                     0           3  \n",
            " Assoc-voc                      2           2  \n",
            " Bachelors                      3           6  \n",
            " Doctorate                      1           0  \n",
            " HS-grad                       18          11  \n",
            " Masters                        2           3  \n",
            " Preschool                      0           0  \n",
            " Prof-school                    0           0  \n",
            " Some-college                  15           6  \n"
          ]
        }
      ],
      "source": [
        "import pandas as pd\n",
        "import numpy as np\n",
        "\n",
        "columns = 'age,workclass,fnlwgt,education,education.num,marital.status,occupation,relationship,race,sex,capital.gain,capital.loss,hours.per.week,native.country,income'.split(',')\n",
        "df = pd.read_csv('https://archive.ics.uci.edu/ml/machine-learning-databases/adult/adult.data', na_values='?', names=columns)\n",
        "\n",
        "df['capital.diff'] = df['capital.gain'] - df['capital.loss']\n",
        "\n",
        "def categorize_capital_diff(value):\n",
        "    if value == 0:\n",
        "        return 'No Gain/Loss'\n",
        "    elif value > 0 and value <= 1000:\n",
        "        return 'Small Gain'\n",
        "    elif value > 1000 and value <= 5000:\n",
        "        return 'Medium Gain'\n",
        "    elif value > 5000:\n",
        "        return 'High Gain'\n",
        "    elif value < 0 and value >= -1000:\n",
        "        return 'Small Loss'\n",
        "    elif value < -1000 and value >= -5000:\n",
        "        return 'Medium Loss'\n",
        "    elif value < -5000:\n",
        "        return 'High Loss'\n",
        "\n",
        "df['capital.diff.category'] = df['capital.diff'].apply(categorize_capital_diff)\n",
        "\n",
        "pivot_table = pd.pivot_table(df, values='capital.diff', index='education', columns='capital.diff.category', aggfunc='count', fill_value=0)\n",
        "\n",
        "print(pivot_table)\n"
      ]
    },
    {
      "cell_type": "markdown",
      "metadata": {
        "id": "E9ThEd9fE9Ax"
      },
      "source": [
        "14) Женщины из каких стран получают в среднем большую зарплату (>50K) чаще."
      ]
    },
    {
      "cell_type": "code",
      "execution_count": 24,
      "metadata": {
        "id": "WLo0CO7YE9Ay",
        "colab": {
          "base_uri": "https://localhost:8080/"
        },
        "outputId": "2c267e7f-fa63-4890-8041-a3542a118595"
      },
      "outputs": [
        {
          "output_type": "stream",
          "name": "stdout",
          "text": [
            "Женщины из страны ' United-States' получают в среднем большую зарплату (>50K) чаще, 1072 раз.\n"
          ]
        }
      ],
      "source": [
        "import pandas as pd\n",
        "\n",
        "columns = 'age,workclass,fnlwgt,education,education.num,marital.status,occupation,relationship,race,sex,capital.gain,capital.loss,hours.per.week,native.country,income'.split(',')\n",
        "df = pd.read_csv('https://archive.ics.uci.edu/ml/machine-learning-databases/adult/adult.data', na_values='?', names=columns)\n",
        "\n",
        "female_high_income = df[(df['sex'] == ' Female') & (df['income'] == ' >50K')]\n",
        "\n",
        "pivot_table = pd.pivot_table(female_high_income, values='income', index='native.country', aggfunc='count', fill_value=0)\n",
        "\n",
        "max_avg_income_country = pivot_table.idxmax().values[0]\n",
        "max_avg_income_count = pivot_table.max().values[0]\n",
        "\n",
        "print(f\"Женщины из страны '{max_avg_income_country}' получают в среднем большую зарплату (>50K) чаще, {max_avg_income_count} раз.\")\n"
      ]
    },
    {
      "cell_type": "markdown",
      "metadata": {
        "id": "iPZoksFkE9Ay"
      },
      "source": [
        "15) Создайте случайную колонку - magic_salary, которую нужно будет вычислить следующим образом: если зарплата небольшая (<50K), тогда случайно выберите число из диапазона [0,50]. Если зарплата выше 50K тогда из диапазона [51, 200]. Посчитайте среднюю зарплату в час для групп людей с одни уровнем образования на основе нашей случайной колонки magic_salary"
      ]
    }
  ],
  "metadata": {
    "kernelspec": {
      "display_name": "Python 3",
      "language": "python",
      "name": "python3"
    },
    "language_info": {
      "codemirror_mode": {
        "name": "ipython",
        "version": 3
      },
      "file_extension": ".py",
      "mimetype": "text/x-python",
      "name": "python",
      "nbconvert_exporter": "python",
      "pygments_lexer": "ipython3",
      "version": "3.8.0"
    },
    "colab": {
      "provenance": [],
      "include_colab_link": true
    }
  },
  "nbformat": 4,
  "nbformat_minor": 0
}