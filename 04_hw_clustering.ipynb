{
  "cells": [
    {
      "cell_type": "markdown",
      "metadata": {
        "id": "view-in-github",
        "colab_type": "text"
      },
      "source": [
        "<a href=\"https://colab.research.google.com/github/sergey031/DZ_MLP/blob/master/04_hw_clustering.ipynb\" target=\"_parent\"><img src=\"https://colab.research.google.com/assets/colab-badge.svg\" alt=\"Open In Colab\"/></a>"
      ]
    },
    {
      "cell_type": "markdown",
      "metadata": {
        "id": "njQcrguya1Nb"
      },
      "source": [
        "# Кластеризация. Практическая работа 2\n",
        "\n",
        "## Совсем простая рекомендательная система\n",
        "\n",
        "На основе оценок аниме, которые ставят пользователи систем типа [MAL](https://myanimelist.net/), можно строить разные кластеры данных:\n",
        "- кластеры похожих людей. Похожие значит, что эти люди ставят похожие рейтинги аниме.\n",
        "- кластеры похожих аниме. Похожие значит что люди оценивают их похоже.\n",
        "- кластеры похожих жанров. Но похожие не в обычном смысле, а в смысле, что люди которые смотрят жанр А любят смотреть жанр Б.\n",
        "\n",
        "и т.д.\n",
        "\n",
        "### Полезная литература\n",
        "\n",
        "- [Лекция 8. Рекомендательный системы](https://www.youtube.com/watch?v=Te_6TqEhyTI&t=4s).\n",
        "- [Туториал по рекомендательным системам](http://nbviewer.jupyter.org/urls/gitlab.7bits.it/isiganov/ml-course/raw/master/week05/theory/05-01-clustering.ipynb?inline=false)\n",
        "- [ODS: Обучение без учителя: PCA и кластеризация](https://habrahabr.ru/company/ods/blog/325654/)\n",
        "- [Интересные алгоритмы кластеризации, часть первая: Affinity propagation](https://habrahabr.ru/post/321216/) и другие статьи цикла\n",
        "- [Глава 7: кластеризация и визуализация. К. В. Воронцов](http://www.machinelearning.ru/wiki/images/6/6d/Voron-ML-1.pdf)\n",
        "- [Документация sklearn.clustering](http://scikit-learn.org/stable/modules/clustering.html)\n",
        "- [K-Means Clustering - The Math of Intelligence. Siraj Raval](https://www.youtube.com/watch?v=9991JlKnFmk) объяснение с программированием KMeans вручную\n",
        "\n"
      ]
    },
    {
      "cell_type": "code",
      "execution_count": 1,
      "metadata": {
        "id": "dR2jz6_Ja1Nd"
      },
      "outputs": [],
      "source": [
        "from sklearn import datasets\n",
        "import pandas as pd\n",
        "import numpy as np\n",
        "from matplotlib import pyplot as plt\n",
        "import seaborn as sns\n",
        "\n",
        "from sklearn.cluster import KMeans\n",
        "\n",
        "from tqdm import tqdm\n",
        "# from tqdm import tqdm_notebook as tqdm # Раскоментируйте если прогресс бар будет странно работать\n",
        "\n",
        "%matplotlib inline\n",
        "\n",
        "# Зафиксируем случайность, чтобы у нас получались одинаковые результаты.\n",
        "np.random.seed(seed=42)"
      ]
    },
    {
      "cell_type": "markdown",
      "metadata": {
        "id": "4UhBfNdTb2gD"
      },
      "source": [
        "## Анализ отзывов аниме\n",
        "\n",
        "Возьмем датасет с рейтингами аниме: https://www.kaggle.com/CooperUnion/anime-recommendations-database  \n",
        "Кстати, вы можете посмотреть kernels - это jupyter notebooks, в которых другие люди тоже делали что-то с этим датасетом.\n",
        "\n",
        "```\n",
        "Anime.csv\n",
        "\n",
        "anime_id - myanimelist.net's unique id identifying an anime.\n",
        "name - full name of anime.\n",
        "genre - comma separated list of genres for this anime.\n",
        "type - movie, TV, OVA, etc.\n",
        "episodes - how many episodes in this show. (1 if movie).\n",
        "rating - average rating out of 10 for this anime.\n",
        "members - number of community members that are in this anime's \"group\".\n",
        "\n",
        "\n",
        "Rating.csv\n",
        "\n",
        "user_id - non identifiable randomly generated user id.\n",
        "anime_id - the anime that this user has rated.\n",
        "rating - rating out of 10 this user has assigned (-1 if the user watched it but didn't assign a rating).\n",
        "```"
      ]
    },
    {
      "cell_type": "code",
      "execution_count": 3,
      "metadata": {
        "id": "MQeq12Wnh11r"
      },
      "outputs": [],
      "source": [
        "colab = False  # True если используте google colab\n",
        "if colab:\n",
        "    from google.colab import drive\n",
        "    drive.mount('/content/drive/')"
      ]
    },
    {
      "cell_type": "code",
      "execution_count": 5,
      "metadata": {
        "id": "vRFEeThr-RBx",
        "tags": [],
        "colab": {
          "base_uri": "https://localhost:8080/",
          "height": 221
        },
        "outputId": "716eead3-b53e-4389-d595-82ec356c9cda"
      },
      "outputs": [
        {
          "output_type": "stream",
          "name": "stdout",
          "text": [
            "(12017, 7)\n"
          ]
        },
        {
          "output_type": "execute_result",
          "data": {
            "text/plain": [
              "   anime_id                              name  \\\n",
              "0     32281                    Kimi no Na wa.   \n",
              "1      5114  Fullmetal Alchemist: Brotherhood   \n",
              "2     28977                          Gintama°   \n",
              "3      9253                       Steins;Gate   \n",
              "4      9969                     Gintama&#039;   \n",
              "\n",
              "                                               genre   type episodes  rating  \\\n",
              "0               Drama, Romance, School, Supernatural  Movie        1    9.37   \n",
              "1  Action, Adventure, Drama, Fantasy, Magic, Mili...     TV       64    9.26   \n",
              "2  Action, Comedy, Historical, Parody, Samurai, S...     TV       51    9.25   \n",
              "3                                   Sci-Fi, Thriller     TV       24    9.17   \n",
              "4  Action, Comedy, Historical, Parody, Samurai, S...     TV       51    9.16   \n",
              "\n",
              "   members  \n",
              "0   200630  \n",
              "1   793665  \n",
              "2   114262  \n",
              "3   673572  \n",
              "4   151266  "
            ],
            "text/html": [
              "\n",
              "  <div id=\"df-092f4ffb-198d-4cf0-a0d8-ab7fa4f882e8\" class=\"colab-df-container\">\n",
              "    <div>\n",
              "<style scoped>\n",
              "    .dataframe tbody tr th:only-of-type {\n",
              "        vertical-align: middle;\n",
              "    }\n",
              "\n",
              "    .dataframe tbody tr th {\n",
              "        vertical-align: top;\n",
              "    }\n",
              "\n",
              "    .dataframe thead th {\n",
              "        text-align: right;\n",
              "    }\n",
              "</style>\n",
              "<table border=\"1\" class=\"dataframe\">\n",
              "  <thead>\n",
              "    <tr style=\"text-align: right;\">\n",
              "      <th></th>\n",
              "      <th>anime_id</th>\n",
              "      <th>name</th>\n",
              "      <th>genre</th>\n",
              "      <th>type</th>\n",
              "      <th>episodes</th>\n",
              "      <th>rating</th>\n",
              "      <th>members</th>\n",
              "    </tr>\n",
              "  </thead>\n",
              "  <tbody>\n",
              "    <tr>\n",
              "      <th>0</th>\n",
              "      <td>32281</td>\n",
              "      <td>Kimi no Na wa.</td>\n",
              "      <td>Drama, Romance, School, Supernatural</td>\n",
              "      <td>Movie</td>\n",
              "      <td>1</td>\n",
              "      <td>9.37</td>\n",
              "      <td>200630</td>\n",
              "    </tr>\n",
              "    <tr>\n",
              "      <th>1</th>\n",
              "      <td>5114</td>\n",
              "      <td>Fullmetal Alchemist: Brotherhood</td>\n",
              "      <td>Action, Adventure, Drama, Fantasy, Magic, Mili...</td>\n",
              "      <td>TV</td>\n",
              "      <td>64</td>\n",
              "      <td>9.26</td>\n",
              "      <td>793665</td>\n",
              "    </tr>\n",
              "    <tr>\n",
              "      <th>2</th>\n",
              "      <td>28977</td>\n",
              "      <td>Gintama°</td>\n",
              "      <td>Action, Comedy, Historical, Parody, Samurai, S...</td>\n",
              "      <td>TV</td>\n",
              "      <td>51</td>\n",
              "      <td>9.25</td>\n",
              "      <td>114262</td>\n",
              "    </tr>\n",
              "    <tr>\n",
              "      <th>3</th>\n",
              "      <td>9253</td>\n",
              "      <td>Steins;Gate</td>\n",
              "      <td>Sci-Fi, Thriller</td>\n",
              "      <td>TV</td>\n",
              "      <td>24</td>\n",
              "      <td>9.17</td>\n",
              "      <td>673572</td>\n",
              "    </tr>\n",
              "    <tr>\n",
              "      <th>4</th>\n",
              "      <td>9969</td>\n",
              "      <td>Gintama&amp;#039;</td>\n",
              "      <td>Action, Comedy, Historical, Parody, Samurai, S...</td>\n",
              "      <td>TV</td>\n",
              "      <td>51</td>\n",
              "      <td>9.16</td>\n",
              "      <td>151266</td>\n",
              "    </tr>\n",
              "  </tbody>\n",
              "</table>\n",
              "</div>\n",
              "    <div class=\"colab-df-buttons\">\n",
              "\n",
              "  <div class=\"colab-df-container\">\n",
              "    <button class=\"colab-df-convert\" onclick=\"convertToInteractive('df-092f4ffb-198d-4cf0-a0d8-ab7fa4f882e8')\"\n",
              "            title=\"Convert this dataframe to an interactive table.\"\n",
              "            style=\"display:none;\">\n",
              "\n",
              "  <svg xmlns=\"http://www.w3.org/2000/svg\" height=\"24px\" viewBox=\"0 -960 960 960\">\n",
              "    <path d=\"M120-120v-720h720v720H120Zm60-500h600v-160H180v160Zm220 220h160v-160H400v160Zm0 220h160v-160H400v160ZM180-400h160v-160H180v160Zm440 0h160v-160H620v160ZM180-180h160v-160H180v160Zm440 0h160v-160H620v160Z\"/>\n",
              "  </svg>\n",
              "    </button>\n",
              "\n",
              "  <style>\n",
              "    .colab-df-container {\n",
              "      display:flex;\n",
              "      gap: 12px;\n",
              "    }\n",
              "\n",
              "    .colab-df-convert {\n",
              "      background-color: #E8F0FE;\n",
              "      border: none;\n",
              "      border-radius: 50%;\n",
              "      cursor: pointer;\n",
              "      display: none;\n",
              "      fill: #1967D2;\n",
              "      height: 32px;\n",
              "      padding: 0 0 0 0;\n",
              "      width: 32px;\n",
              "    }\n",
              "\n",
              "    .colab-df-convert:hover {\n",
              "      background-color: #E2EBFA;\n",
              "      box-shadow: 0px 1px 2px rgba(60, 64, 67, 0.3), 0px 1px 3px 1px rgba(60, 64, 67, 0.15);\n",
              "      fill: #174EA6;\n",
              "    }\n",
              "\n",
              "    .colab-df-buttons div {\n",
              "      margin-bottom: 4px;\n",
              "    }\n",
              "\n",
              "    [theme=dark] .colab-df-convert {\n",
              "      background-color: #3B4455;\n",
              "      fill: #D2E3FC;\n",
              "    }\n",
              "\n",
              "    [theme=dark] .colab-df-convert:hover {\n",
              "      background-color: #434B5C;\n",
              "      box-shadow: 0px 1px 3px 1px rgba(0, 0, 0, 0.15);\n",
              "      filter: drop-shadow(0px 1px 2px rgba(0, 0, 0, 0.3));\n",
              "      fill: #FFFFFF;\n",
              "    }\n",
              "  </style>\n",
              "\n",
              "    <script>\n",
              "      const buttonEl =\n",
              "        document.querySelector('#df-092f4ffb-198d-4cf0-a0d8-ab7fa4f882e8 button.colab-df-convert');\n",
              "      buttonEl.style.display =\n",
              "        google.colab.kernel.accessAllowed ? 'block' : 'none';\n",
              "\n",
              "      async function convertToInteractive(key) {\n",
              "        const element = document.querySelector('#df-092f4ffb-198d-4cf0-a0d8-ab7fa4f882e8');\n",
              "        const dataTable =\n",
              "          await google.colab.kernel.invokeFunction('convertToInteractive',\n",
              "                                                    [key], {});\n",
              "        if (!dataTable) return;\n",
              "\n",
              "        const docLinkHtml = 'Like what you see? Visit the ' +\n",
              "          '<a target=\"_blank\" href=https://colab.research.google.com/notebooks/data_table.ipynb>data table notebook</a>'\n",
              "          + ' to learn more about interactive tables.';\n",
              "        element.innerHTML = '';\n",
              "        dataTable['output_type'] = 'display_data';\n",
              "        await google.colab.output.renderOutput(dataTable, element);\n",
              "        const docLink = document.createElement('div');\n",
              "        docLink.innerHTML = docLinkHtml;\n",
              "        element.appendChild(docLink);\n",
              "      }\n",
              "    </script>\n",
              "  </div>\n",
              "\n",
              "\n",
              "<div id=\"df-a8e854b0-1140-4d33-ab62-104c187e61f6\">\n",
              "  <button class=\"colab-df-quickchart\" onclick=\"quickchart('df-a8e854b0-1140-4d33-ab62-104c187e61f6')\"\n",
              "            title=\"Suggest charts.\"\n",
              "            style=\"display:none;\">\n",
              "\n",
              "<svg xmlns=\"http://www.w3.org/2000/svg\" height=\"24px\"viewBox=\"0 0 24 24\"\n",
              "     width=\"24px\">\n",
              "    <g>\n",
              "        <path d=\"M19 3H5c-1.1 0-2 .9-2 2v14c0 1.1.9 2 2 2h14c1.1 0 2-.9 2-2V5c0-1.1-.9-2-2-2zM9 17H7v-7h2v7zm4 0h-2V7h2v10zm4 0h-2v-4h2v4z\"/>\n",
              "    </g>\n",
              "</svg>\n",
              "  </button>\n",
              "\n",
              "<style>\n",
              "  .colab-df-quickchart {\n",
              "      --bg-color: #E8F0FE;\n",
              "      --fill-color: #1967D2;\n",
              "      --hover-bg-color: #E2EBFA;\n",
              "      --hover-fill-color: #174EA6;\n",
              "      --disabled-fill-color: #AAA;\n",
              "      --disabled-bg-color: #DDD;\n",
              "  }\n",
              "\n",
              "  [theme=dark] .colab-df-quickchart {\n",
              "      --bg-color: #3B4455;\n",
              "      --fill-color: #D2E3FC;\n",
              "      --hover-bg-color: #434B5C;\n",
              "      --hover-fill-color: #FFFFFF;\n",
              "      --disabled-bg-color: #3B4455;\n",
              "      --disabled-fill-color: #666;\n",
              "  }\n",
              "\n",
              "  .colab-df-quickchart {\n",
              "    background-color: var(--bg-color);\n",
              "    border: none;\n",
              "    border-radius: 50%;\n",
              "    cursor: pointer;\n",
              "    display: none;\n",
              "    fill: var(--fill-color);\n",
              "    height: 32px;\n",
              "    padding: 0;\n",
              "    width: 32px;\n",
              "  }\n",
              "\n",
              "  .colab-df-quickchart:hover {\n",
              "    background-color: var(--hover-bg-color);\n",
              "    box-shadow: 0 1px 2px rgba(60, 64, 67, 0.3), 0 1px 3px 1px rgba(60, 64, 67, 0.15);\n",
              "    fill: var(--button-hover-fill-color);\n",
              "  }\n",
              "\n",
              "  .colab-df-quickchart-complete:disabled,\n",
              "  .colab-df-quickchart-complete:disabled:hover {\n",
              "    background-color: var(--disabled-bg-color);\n",
              "    fill: var(--disabled-fill-color);\n",
              "    box-shadow: none;\n",
              "  }\n",
              "\n",
              "  .colab-df-spinner {\n",
              "    border: 2px solid var(--fill-color);\n",
              "    border-color: transparent;\n",
              "    border-bottom-color: var(--fill-color);\n",
              "    animation:\n",
              "      spin 1s steps(1) infinite;\n",
              "  }\n",
              "\n",
              "  @keyframes spin {\n",
              "    0% {\n",
              "      border-color: transparent;\n",
              "      border-bottom-color: var(--fill-color);\n",
              "      border-left-color: var(--fill-color);\n",
              "    }\n",
              "    20% {\n",
              "      border-color: transparent;\n",
              "      border-left-color: var(--fill-color);\n",
              "      border-top-color: var(--fill-color);\n",
              "    }\n",
              "    30% {\n",
              "      border-color: transparent;\n",
              "      border-left-color: var(--fill-color);\n",
              "      border-top-color: var(--fill-color);\n",
              "      border-right-color: var(--fill-color);\n",
              "    }\n",
              "    40% {\n",
              "      border-color: transparent;\n",
              "      border-right-color: var(--fill-color);\n",
              "      border-top-color: var(--fill-color);\n",
              "    }\n",
              "    60% {\n",
              "      border-color: transparent;\n",
              "      border-right-color: var(--fill-color);\n",
              "    }\n",
              "    80% {\n",
              "      border-color: transparent;\n",
              "      border-right-color: var(--fill-color);\n",
              "      border-bottom-color: var(--fill-color);\n",
              "    }\n",
              "    90% {\n",
              "      border-color: transparent;\n",
              "      border-bottom-color: var(--fill-color);\n",
              "    }\n",
              "  }\n",
              "</style>\n",
              "\n",
              "  <script>\n",
              "    async function quickchart(key) {\n",
              "      const quickchartButtonEl =\n",
              "        document.querySelector('#' + key + ' button');\n",
              "      quickchartButtonEl.disabled = true;  // To prevent multiple clicks.\n",
              "      quickchartButtonEl.classList.add('colab-df-spinner');\n",
              "      try {\n",
              "        const charts = await google.colab.kernel.invokeFunction(\n",
              "            'suggestCharts', [key], {});\n",
              "      } catch (error) {\n",
              "        console.error('Error during call to suggestCharts:', error);\n",
              "      }\n",
              "      quickchartButtonEl.classList.remove('colab-df-spinner');\n",
              "      quickchartButtonEl.classList.add('colab-df-quickchart-complete');\n",
              "    }\n",
              "    (() => {\n",
              "      let quickchartButtonEl =\n",
              "        document.querySelector('#df-a8e854b0-1140-4d33-ab62-104c187e61f6 button');\n",
              "      quickchartButtonEl.style.display =\n",
              "        google.colab.kernel.accessAllowed ? 'block' : 'none';\n",
              "    })();\n",
              "  </script>\n",
              "</div>\n",
              "    </div>\n",
              "  </div>\n"
            ]
          },
          "metadata": {},
          "execution_count": 5
        }
      ],
      "source": [
        "if colab:\n",
        "    anime = pd.read_csv('anime.csv')\n",
        "else:\n",
        "    anime = pd.read_csv('anime.csv')\n",
        "anime.dropna(inplace=True)\n",
        "print(anime.shape)\n",
        "anime.head()"
      ]
    },
    {
      "cell_type": "code",
      "execution_count": 7,
      "metadata": {
        "id": "c9VKgQNV-VKE",
        "colab": {
          "base_uri": "https://localhost:8080/",
          "height": 419
        },
        "outputId": "bf2fc588-2721-4c6c-d8ac-c1b7cbf1125f"
      },
      "outputs": [
        {
          "output_type": "execute_result",
          "data": {
            "text/plain": [
              "         user_id  anime_id  rating\n",
              "0              1        20      -1\n",
              "1              1        24      -1\n",
              "2              1        79      -1\n",
              "3              1       226      -1\n",
              "4              1       241      -1\n",
              "...          ...       ...     ...\n",
              "1176141    11234      3002       8\n",
              "1176142    11234      3036       7\n",
              "1176143    11234      4182       7\n",
              "1176144    11234      4186       8\n",
              "1176145    11234      4472       9\n",
              "\n",
              "[1176146 rows x 3 columns]"
            ],
            "text/html": [
              "\n",
              "  <div id=\"df-be5ade7e-2e19-4ac2-b1af-5fa8a9a99934\" class=\"colab-df-container\">\n",
              "    <div>\n",
              "<style scoped>\n",
              "    .dataframe tbody tr th:only-of-type {\n",
              "        vertical-align: middle;\n",
              "    }\n",
              "\n",
              "    .dataframe tbody tr th {\n",
              "        vertical-align: top;\n",
              "    }\n",
              "\n",
              "    .dataframe thead th {\n",
              "        text-align: right;\n",
              "    }\n",
              "</style>\n",
              "<table border=\"1\" class=\"dataframe\">\n",
              "  <thead>\n",
              "    <tr style=\"text-align: right;\">\n",
              "      <th></th>\n",
              "      <th>user_id</th>\n",
              "      <th>anime_id</th>\n",
              "      <th>rating</th>\n",
              "    </tr>\n",
              "  </thead>\n",
              "  <tbody>\n",
              "    <tr>\n",
              "      <th>0</th>\n",
              "      <td>1</td>\n",
              "      <td>20</td>\n",
              "      <td>-1</td>\n",
              "    </tr>\n",
              "    <tr>\n",
              "      <th>1</th>\n",
              "      <td>1</td>\n",
              "      <td>24</td>\n",
              "      <td>-1</td>\n",
              "    </tr>\n",
              "    <tr>\n",
              "      <th>2</th>\n",
              "      <td>1</td>\n",
              "      <td>79</td>\n",
              "      <td>-1</td>\n",
              "    </tr>\n",
              "    <tr>\n",
              "      <th>3</th>\n",
              "      <td>1</td>\n",
              "      <td>226</td>\n",
              "      <td>-1</td>\n",
              "    </tr>\n",
              "    <tr>\n",
              "      <th>4</th>\n",
              "      <td>1</td>\n",
              "      <td>241</td>\n",
              "      <td>-1</td>\n",
              "    </tr>\n",
              "    <tr>\n",
              "      <th>...</th>\n",
              "      <td>...</td>\n",
              "      <td>...</td>\n",
              "      <td>...</td>\n",
              "    </tr>\n",
              "    <tr>\n",
              "      <th>1176141</th>\n",
              "      <td>11234</td>\n",
              "      <td>3002</td>\n",
              "      <td>8</td>\n",
              "    </tr>\n",
              "    <tr>\n",
              "      <th>1176142</th>\n",
              "      <td>11234</td>\n",
              "      <td>3036</td>\n",
              "      <td>7</td>\n",
              "    </tr>\n",
              "    <tr>\n",
              "      <th>1176143</th>\n",
              "      <td>11234</td>\n",
              "      <td>4182</td>\n",
              "      <td>7</td>\n",
              "    </tr>\n",
              "    <tr>\n",
              "      <th>1176144</th>\n",
              "      <td>11234</td>\n",
              "      <td>4186</td>\n",
              "      <td>8</td>\n",
              "    </tr>\n",
              "    <tr>\n",
              "      <th>1176145</th>\n",
              "      <td>11234</td>\n",
              "      <td>4472</td>\n",
              "      <td>9</td>\n",
              "    </tr>\n",
              "  </tbody>\n",
              "</table>\n",
              "<p>1176146 rows × 3 columns</p>\n",
              "</div>\n",
              "    <div class=\"colab-df-buttons\">\n",
              "\n",
              "  <div class=\"colab-df-container\">\n",
              "    <button class=\"colab-df-convert\" onclick=\"convertToInteractive('df-be5ade7e-2e19-4ac2-b1af-5fa8a9a99934')\"\n",
              "            title=\"Convert this dataframe to an interactive table.\"\n",
              "            style=\"display:none;\">\n",
              "\n",
              "  <svg xmlns=\"http://www.w3.org/2000/svg\" height=\"24px\" viewBox=\"0 -960 960 960\">\n",
              "    <path d=\"M120-120v-720h720v720H120Zm60-500h600v-160H180v160Zm220 220h160v-160H400v160Zm0 220h160v-160H400v160ZM180-400h160v-160H180v160Zm440 0h160v-160H620v160ZM180-180h160v-160H180v160Zm440 0h160v-160H620v160Z\"/>\n",
              "  </svg>\n",
              "    </button>\n",
              "\n",
              "  <style>\n",
              "    .colab-df-container {\n",
              "      display:flex;\n",
              "      gap: 12px;\n",
              "    }\n",
              "\n",
              "    .colab-df-convert {\n",
              "      background-color: #E8F0FE;\n",
              "      border: none;\n",
              "      border-radius: 50%;\n",
              "      cursor: pointer;\n",
              "      display: none;\n",
              "      fill: #1967D2;\n",
              "      height: 32px;\n",
              "      padding: 0 0 0 0;\n",
              "      width: 32px;\n",
              "    }\n",
              "\n",
              "    .colab-df-convert:hover {\n",
              "      background-color: #E2EBFA;\n",
              "      box-shadow: 0px 1px 2px rgba(60, 64, 67, 0.3), 0px 1px 3px 1px rgba(60, 64, 67, 0.15);\n",
              "      fill: #174EA6;\n",
              "    }\n",
              "\n",
              "    .colab-df-buttons div {\n",
              "      margin-bottom: 4px;\n",
              "    }\n",
              "\n",
              "    [theme=dark] .colab-df-convert {\n",
              "      background-color: #3B4455;\n",
              "      fill: #D2E3FC;\n",
              "    }\n",
              "\n",
              "    [theme=dark] .colab-df-convert:hover {\n",
              "      background-color: #434B5C;\n",
              "      box-shadow: 0px 1px 3px 1px rgba(0, 0, 0, 0.15);\n",
              "      filter: drop-shadow(0px 1px 2px rgba(0, 0, 0, 0.3));\n",
              "      fill: #FFFFFF;\n",
              "    }\n",
              "  </style>\n",
              "\n",
              "    <script>\n",
              "      const buttonEl =\n",
              "        document.querySelector('#df-be5ade7e-2e19-4ac2-b1af-5fa8a9a99934 button.colab-df-convert');\n",
              "      buttonEl.style.display =\n",
              "        google.colab.kernel.accessAllowed ? 'block' : 'none';\n",
              "\n",
              "      async function convertToInteractive(key) {\n",
              "        const element = document.querySelector('#df-be5ade7e-2e19-4ac2-b1af-5fa8a9a99934');\n",
              "        const dataTable =\n",
              "          await google.colab.kernel.invokeFunction('convertToInteractive',\n",
              "                                                    [key], {});\n",
              "        if (!dataTable) return;\n",
              "\n",
              "        const docLinkHtml = 'Like what you see? Visit the ' +\n",
              "          '<a target=\"_blank\" href=https://colab.research.google.com/notebooks/data_table.ipynb>data table notebook</a>'\n",
              "          + ' to learn more about interactive tables.';\n",
              "        element.innerHTML = '';\n",
              "        dataTable['output_type'] = 'display_data';\n",
              "        await google.colab.output.renderOutput(dataTable, element);\n",
              "        const docLink = document.createElement('div');\n",
              "        docLink.innerHTML = docLinkHtml;\n",
              "        element.appendChild(docLink);\n",
              "      }\n",
              "    </script>\n",
              "  </div>\n",
              "\n",
              "\n",
              "<div id=\"df-485678d8-df19-4ab5-a397-c10f7a2b270d\">\n",
              "  <button class=\"colab-df-quickchart\" onclick=\"quickchart('df-485678d8-df19-4ab5-a397-c10f7a2b270d')\"\n",
              "            title=\"Suggest charts.\"\n",
              "            style=\"display:none;\">\n",
              "\n",
              "<svg xmlns=\"http://www.w3.org/2000/svg\" height=\"24px\"viewBox=\"0 0 24 24\"\n",
              "     width=\"24px\">\n",
              "    <g>\n",
              "        <path d=\"M19 3H5c-1.1 0-2 .9-2 2v14c0 1.1.9 2 2 2h14c1.1 0 2-.9 2-2V5c0-1.1-.9-2-2-2zM9 17H7v-7h2v7zm4 0h-2V7h2v10zm4 0h-2v-4h2v4z\"/>\n",
              "    </g>\n",
              "</svg>\n",
              "  </button>\n",
              "\n",
              "<style>\n",
              "  .colab-df-quickchart {\n",
              "      --bg-color: #E8F0FE;\n",
              "      --fill-color: #1967D2;\n",
              "      --hover-bg-color: #E2EBFA;\n",
              "      --hover-fill-color: #174EA6;\n",
              "      --disabled-fill-color: #AAA;\n",
              "      --disabled-bg-color: #DDD;\n",
              "  }\n",
              "\n",
              "  [theme=dark] .colab-df-quickchart {\n",
              "      --bg-color: #3B4455;\n",
              "      --fill-color: #D2E3FC;\n",
              "      --hover-bg-color: #434B5C;\n",
              "      --hover-fill-color: #FFFFFF;\n",
              "      --disabled-bg-color: #3B4455;\n",
              "      --disabled-fill-color: #666;\n",
              "  }\n",
              "\n",
              "  .colab-df-quickchart {\n",
              "    background-color: var(--bg-color);\n",
              "    border: none;\n",
              "    border-radius: 50%;\n",
              "    cursor: pointer;\n",
              "    display: none;\n",
              "    fill: var(--fill-color);\n",
              "    height: 32px;\n",
              "    padding: 0;\n",
              "    width: 32px;\n",
              "  }\n",
              "\n",
              "  .colab-df-quickchart:hover {\n",
              "    background-color: var(--hover-bg-color);\n",
              "    box-shadow: 0 1px 2px rgba(60, 64, 67, 0.3), 0 1px 3px 1px rgba(60, 64, 67, 0.15);\n",
              "    fill: var(--button-hover-fill-color);\n",
              "  }\n",
              "\n",
              "  .colab-df-quickchart-complete:disabled,\n",
              "  .colab-df-quickchart-complete:disabled:hover {\n",
              "    background-color: var(--disabled-bg-color);\n",
              "    fill: var(--disabled-fill-color);\n",
              "    box-shadow: none;\n",
              "  }\n",
              "\n",
              "  .colab-df-spinner {\n",
              "    border: 2px solid var(--fill-color);\n",
              "    border-color: transparent;\n",
              "    border-bottom-color: var(--fill-color);\n",
              "    animation:\n",
              "      spin 1s steps(1) infinite;\n",
              "  }\n",
              "\n",
              "  @keyframes spin {\n",
              "    0% {\n",
              "      border-color: transparent;\n",
              "      border-bottom-color: var(--fill-color);\n",
              "      border-left-color: var(--fill-color);\n",
              "    }\n",
              "    20% {\n",
              "      border-color: transparent;\n",
              "      border-left-color: var(--fill-color);\n",
              "      border-top-color: var(--fill-color);\n",
              "    }\n",
              "    30% {\n",
              "      border-color: transparent;\n",
              "      border-left-color: var(--fill-color);\n",
              "      border-top-color: var(--fill-color);\n",
              "      border-right-color: var(--fill-color);\n",
              "    }\n",
              "    40% {\n",
              "      border-color: transparent;\n",
              "      border-right-color: var(--fill-color);\n",
              "      border-top-color: var(--fill-color);\n",
              "    }\n",
              "    60% {\n",
              "      border-color: transparent;\n",
              "      border-right-color: var(--fill-color);\n",
              "    }\n",
              "    80% {\n",
              "      border-color: transparent;\n",
              "      border-right-color: var(--fill-color);\n",
              "      border-bottom-color: var(--fill-color);\n",
              "    }\n",
              "    90% {\n",
              "      border-color: transparent;\n",
              "      border-bottom-color: var(--fill-color);\n",
              "    }\n",
              "  }\n",
              "</style>\n",
              "\n",
              "  <script>\n",
              "    async function quickchart(key) {\n",
              "      const quickchartButtonEl =\n",
              "        document.querySelector('#' + key + ' button');\n",
              "      quickchartButtonEl.disabled = true;  // To prevent multiple clicks.\n",
              "      quickchartButtonEl.classList.add('colab-df-spinner');\n",
              "      try {\n",
              "        const charts = await google.colab.kernel.invokeFunction(\n",
              "            'suggestCharts', [key], {});\n",
              "      } catch (error) {\n",
              "        console.error('Error during call to suggestCharts:', error);\n",
              "      }\n",
              "      quickchartButtonEl.classList.remove('colab-df-spinner');\n",
              "      quickchartButtonEl.classList.add('colab-df-quickchart-complete');\n",
              "    }\n",
              "    (() => {\n",
              "      let quickchartButtonEl =\n",
              "        document.querySelector('#df-485678d8-df19-4ab5-a397-c10f7a2b270d button');\n",
              "      quickchartButtonEl.style.display =\n",
              "        google.colab.kernel.accessAllowed ? 'block' : 'none';\n",
              "    })();\n",
              "  </script>\n",
              "</div>\n",
              "    </div>\n",
              "  </div>\n"
            ]
          },
          "metadata": {},
          "execution_count": 7
        }
      ],
      "source": [
        "if colab:\n",
        "    ratings = pd.read_csv('rating.csv')\n",
        "else:\n",
        "    ratings = pd.read_csv('rating.csv')\n",
        "ratings"
      ]
    },
    {
      "cell_type": "markdown",
      "metadata": {
        "id": "h338V2Lwb2gj"
      },
      "source": [
        "Датасет очень большой и грязный. Некоторые действия с этим датасетом будут требовать много оперативной памяти(>6 Гб).\n",
        "\n",
        "## Подготовка данных"
      ]
    },
    {
      "cell_type": "markdown",
      "metadata": {
        "id": "e839HZu_b2gk"
      },
      "source": [
        "Во первых, в датасете есть много -1. Оценки -1 и 0 на MAL нет.\n",
        "\n",
        "Здесь -1 означает что человек посмотрел это аниме, но не выставил оценку.\n",
        "\n",
        "Такие записи из `ratings` стоит выбросить, так как в нашем случае они особо не помогут.\n",
        "\n",
        "Но и не помешают серьезно. Если хотите оставьте их, только нужно заменить все -1 на 0, так как дальше нам понадобится посчитать среднее, а -1 или 0, в отличие от `np.nan`, повлияют на среднее.\n",
        "\n",
        "### 1. Избавьтесь от -1"
      ]
    },
    {
      "cell_type": "code",
      "execution_count": 8,
      "metadata": {
        "id": "pCRsQ18wb2gl"
      },
      "outputs": [],
      "source": [
        "import pandas as pd\n",
        "\n",
        "colab = True  # True если используте google colab\n",
        "if colab:\n",
        "    ratings = pd.read_csv('rating.csv')\n",
        "else:\n",
        "    ratings = pd.read_csv('rating.csv')\n",
        "\n",
        "\n",
        "ratings = ratings[ratings['rating'] != -1]"
      ]
    },
    {
      "cell_type": "markdown",
      "metadata": {
        "id": "Cm0qReHpb2gq"
      },
      "source": [
        "## Критерий Шавене (Chauvenet)\n",
        "\n",
        "[Теория](https://www.youtube.com/watch?v=Fy9pHH3ykPE&list=PLLyuiBK_HOLPfRVN6r9305FKXq1ravbbX)\n",
        "\n",
        "$$ erfc(\\frac{|P_i - mean(P)|}{S_p})  < \\frac{1}{2n}$$\n",
        "\n",
        "$ S_p - отклонение $\n",
        "\n",
        "Готовой реализации в библиотеках нет, поэтому придется написать самим(но если найдете можете использовать).\n",
        "\n",
        "### 2. Напишите функцию, которая принимает на вход массив, считает критерий Шавене и возвращает булеву маску.\n",
        "\n",
        "Функция `erfc` есть в sklearn."
      ]
    },
    {
      "cell_type": "code",
      "execution_count": 10,
      "metadata": {
        "id": "SRPB9ZGVb2gr",
        "colab": {
          "base_uri": "https://localhost:8080/"
        },
        "outputId": "cd967410-70d1-4480-8d48-fcede82724f7"
      },
      "outputs": [
        {
          "output_type": "stream",
          "name": "stdout",
          "text": [
            "True\n"
          ]
        }
      ],
      "source": [
        "import numpy as np\n",
        "from scipy.stats import shapiro\n",
        "\n",
        "def shapiro_wilk_test(data, alpha=0.05):\n",
        "    statistic, p_value = shapiro(data)\n",
        "    mask = p_value > alpha\n",
        "    return mask\n",
        "\n",
        "data = np.random.normal(0, 1, 100)\n",
        "is_normal = shapiro_wilk_test(data)\n",
        "print(is_normal)\n"
      ]
    },
    {
      "cell_type": "markdown",
      "metadata": {
        "id": "YibqZ90_b2gv"
      },
      "source": [
        "Для начала давайте посмотрим на таблицу рейтингов.\n",
        "\n",
        "### 3. Сделайте новую таблицу `count_reviews` где индексами будет `user_id` а значением будет количество просмотренных им аниме.\n",
        "\n",
        "\n",
        "**Hint** Используйте [groupby](https://pandas.pydata.org/pandas-docs/stable/reference/api/pandas.DataFrame.groupby.html) и [count](https://pandas.pydata.org/pandas-docs/stable/reference/api/pandas.DataFrame.count.html)."
      ]
    },
    {
      "cell_type": "code",
      "execution_count": 11,
      "metadata": {
        "id": "M3XQcmqvb2gw"
      },
      "outputs": [],
      "source": [
        "count_reviews = ratings.groupby('user_id')['anime_id'].count().reset_index()\n",
        "count_reviews.columns = ['user_id', 'count_reviews']"
      ]
    },
    {
      "cell_type": "markdown",
      "metadata": {
        "id": "ZCtMNEeRb2g0"
      },
      "source": [
        "### 4. Используйте функцию chauvenet и найдите все выбросы.\n",
        "\n",
        "**Hint:** Так как chauvenet возвращает маску используйте оператор `[]` (подробнее смотрите в 1 теории по pandas и numpy).\n",
        "\n",
        "**Hint:** Используйте [values](https://pandas.pydata.org/pandas-docs/stable/reference/api/pandas.DataFrame.values.html)."
      ]
    },
    {
      "cell_type": "code",
      "execution_count": 12,
      "metadata": {
        "id": "dN5Q6T87b2g2"
      },
      "outputs": [],
      "source": [
        "count_reviews_array = count_reviews['count_reviews'].values\n",
        "mask = chauvenet(count_reviews_array)\n",
        "\n",
        "outlier_users = count_reviews['user_id'][mask].values"
      ]
    },
    {
      "cell_type": "markdown",
      "metadata": {
        "id": "OMHGjMnFb2g5"
      },
      "source": [
        "### 5. Ответьте на вопросы\n",
        "\n",
        "#### Кого критерий посчитал выбросом?\n",
        "\n",
        "#### Почему критерий посчитал их выбросом?\n",
        "\n",
        "#### Нужна ли им вообще рекомендательная система?\n"
      ]
    },
    {
      "cell_type": "markdown",
      "metadata": {
        "id": "jTlAVwKjb2g6"
      },
      "source": [
        "**Ответы:**"
      ]
    },
    {
      "cell_type": "code",
      "execution_count": 45,
      "metadata": {
        "id": "vU3CF5oqb2g6"
      },
      "outputs": [],
      "source": [
        "Критерий Шавене определил в качестве выбросов пользователей с очень большим количеством просмотренных аниме (более 500).\n",
        "Такое большое количество просмотров является статистически маловероятным и нехарактерным для обычных пользователей, поэтому критерий отнес этих пользователей к выбросам.\n",
        "Скорее всего таким пользователям не нужна рекомендательная система, так как они уже посмотрели огромное количество аниме и вряд ли будут ориентироваться на рекомендации."
      ]
    },
    {
      "cell_type": "markdown",
      "metadata": {
        "id": "Uirpa-xWb2g9"
      },
      "source": [
        "Если все было правильно `bad_user_threshold` больше 500.\n",
        "\n",
        "Нужно выбросить всех людей у которых число просмотренных аниме больше или равно `bad_user_threshold`.\n",
        "\n",
        "### 6. Переименнуйте столбец из таблицы `count_reviews` в `count_reviews` (он там единственный). Соедините `count_reviews` и `ratings` по столбцу `user_id`. И оставьте в `ratings` только тех кто посмотрел меньше `bad_user_threshold`  "
      ]
    },
    {
      "cell_type": "code",
      "execution_count": 45,
      "metadata": {
        "id": "DlC15OSib2g-"
      },
      "outputs": [],
      "source": [
        "import pandas as pd\n",
        "\n",
        "count_reviews = count_reviews.rename(columns={'count_reviews': 'count_reviews'})\n",
        "merged_data = pd.merge(ratings, count_reviews, on='user_id')\n",
        "bad_user_threshold = 500\n",
        "filtered_data = merged_data[merged_data['count_reviews'] < bad_user_threshold]\n",
        "filtered_data.drop('count_reviews', axis=1, inplace=True)\n",
        "print(filtered_data)"
      ]
    },
    {
      "cell_type": "markdown",
      "metadata": {
        "id": "-oeDGjoVb2hA"
      },
      "source": [
        "Осталось все равно слишком много пользователей.\n",
        "\n",
        "### 7. Удалите из таблицы всех юзеров, у которых количество просмотров меньше медианного значения. То есть мы удалим половину юзеров.\n",
        "\n",
        "Так как они посмотрели слишком мало, чтобы мы на них могли основывать свои советы."
      ]
    },
    {
      "cell_type": "code",
      "execution_count": 18,
      "metadata": {
        "id": "8Z1mmi1vb2hB",
        "colab": {
          "base_uri": "https://localhost:8080/",
          "height": 419
        },
        "outputId": "9972f913-7580-4028-e18a-70afae96fe2e"
      },
      "outputs": [
        {
          "output_type": "execute_result",
          "data": {
            "text/plain": [
              "         user_id  anime_id  rating\n",
              "47             1    8074.0    10.0\n",
              "81             1   11617.0    10.0\n",
              "83             1   11757.0    10.0\n",
              "101            1   15451.0    10.0\n",
              "153            2   11771.0    10.0\n",
              "...          ...       ...     ...\n",
              "1536211    14837   31964.0     8.0\n",
              "1536212    14837   32189.0     9.0\n",
              "1536213    14837   32282.0     9.0\n",
              "1536214    14837   33028.0     9.0\n",
              "1536215        1       NaN     NaN\n",
              "\n",
              "[1249035 rows x 3 columns]"
            ],
            "text/html": [
              "\n",
              "  <div id=\"df-7ca3071f-07fb-4219-af31-9b17d4218ffb\" class=\"colab-df-container\">\n",
              "    <div>\n",
              "<style scoped>\n",
              "    .dataframe tbody tr th:only-of-type {\n",
              "        vertical-align: middle;\n",
              "    }\n",
              "\n",
              "    .dataframe tbody tr th {\n",
              "        vertical-align: top;\n",
              "    }\n",
              "\n",
              "    .dataframe thead th {\n",
              "        text-align: right;\n",
              "    }\n",
              "</style>\n",
              "<table border=\"1\" class=\"dataframe\">\n",
              "  <thead>\n",
              "    <tr style=\"text-align: right;\">\n",
              "      <th></th>\n",
              "      <th>user_id</th>\n",
              "      <th>anime_id</th>\n",
              "      <th>rating</th>\n",
              "    </tr>\n",
              "  </thead>\n",
              "  <tbody>\n",
              "    <tr>\n",
              "      <th>47</th>\n",
              "      <td>1</td>\n",
              "      <td>8074.0</td>\n",
              "      <td>10.0</td>\n",
              "    </tr>\n",
              "    <tr>\n",
              "      <th>81</th>\n",
              "      <td>1</td>\n",
              "      <td>11617.0</td>\n",
              "      <td>10.0</td>\n",
              "    </tr>\n",
              "    <tr>\n",
              "      <th>83</th>\n",
              "      <td>1</td>\n",
              "      <td>11757.0</td>\n",
              "      <td>10.0</td>\n",
              "    </tr>\n",
              "    <tr>\n",
              "      <th>101</th>\n",
              "      <td>1</td>\n",
              "      <td>15451.0</td>\n",
              "      <td>10.0</td>\n",
              "    </tr>\n",
              "    <tr>\n",
              "      <th>153</th>\n",
              "      <td>2</td>\n",
              "      <td>11771.0</td>\n",
              "      <td>10.0</td>\n",
              "    </tr>\n",
              "    <tr>\n",
              "      <th>...</th>\n",
              "      <td>...</td>\n",
              "      <td>...</td>\n",
              "      <td>...</td>\n",
              "    </tr>\n",
              "    <tr>\n",
              "      <th>1536211</th>\n",
              "      <td>14837</td>\n",
              "      <td>31964.0</td>\n",
              "      <td>8.0</td>\n",
              "    </tr>\n",
              "    <tr>\n",
              "      <th>1536212</th>\n",
              "      <td>14837</td>\n",
              "      <td>32189.0</td>\n",
              "      <td>9.0</td>\n",
              "    </tr>\n",
              "    <tr>\n",
              "      <th>1536213</th>\n",
              "      <td>14837</td>\n",
              "      <td>32282.0</td>\n",
              "      <td>9.0</td>\n",
              "    </tr>\n",
              "    <tr>\n",
              "      <th>1536214</th>\n",
              "      <td>14837</td>\n",
              "      <td>33028.0</td>\n",
              "      <td>9.0</td>\n",
              "    </tr>\n",
              "    <tr>\n",
              "      <th>1536215</th>\n",
              "      <td>1</td>\n",
              "      <td>NaN</td>\n",
              "      <td>NaN</td>\n",
              "    </tr>\n",
              "  </tbody>\n",
              "</table>\n",
              "<p>1249035 rows × 3 columns</p>\n",
              "</div>\n",
              "    <div class=\"colab-df-buttons\">\n",
              "\n",
              "  <div class=\"colab-df-container\">\n",
              "    <button class=\"colab-df-convert\" onclick=\"convertToInteractive('df-7ca3071f-07fb-4219-af31-9b17d4218ffb')\"\n",
              "            title=\"Convert this dataframe to an interactive table.\"\n",
              "            style=\"display:none;\">\n",
              "\n",
              "  <svg xmlns=\"http://www.w3.org/2000/svg\" height=\"24px\" viewBox=\"0 -960 960 960\">\n",
              "    <path d=\"M120-120v-720h720v720H120Zm60-500h600v-160H180v160Zm220 220h160v-160H400v160Zm0 220h160v-160H400v160ZM180-400h160v-160H180v160Zm440 0h160v-160H620v160ZM180-180h160v-160H180v160Zm440 0h160v-160H620v160Z\"/>\n",
              "  </svg>\n",
              "    </button>\n",
              "\n",
              "  <style>\n",
              "    .colab-df-container {\n",
              "      display:flex;\n",
              "      gap: 12px;\n",
              "    }\n",
              "\n",
              "    .colab-df-convert {\n",
              "      background-color: #E8F0FE;\n",
              "      border: none;\n",
              "      border-radius: 50%;\n",
              "      cursor: pointer;\n",
              "      display: none;\n",
              "      fill: #1967D2;\n",
              "      height: 32px;\n",
              "      padding: 0 0 0 0;\n",
              "      width: 32px;\n",
              "    }\n",
              "\n",
              "    .colab-df-convert:hover {\n",
              "      background-color: #E2EBFA;\n",
              "      box-shadow: 0px 1px 2px rgba(60, 64, 67, 0.3), 0px 1px 3px 1px rgba(60, 64, 67, 0.15);\n",
              "      fill: #174EA6;\n",
              "    }\n",
              "\n",
              "    .colab-df-buttons div {\n",
              "      margin-bottom: 4px;\n",
              "    }\n",
              "\n",
              "    [theme=dark] .colab-df-convert {\n",
              "      background-color: #3B4455;\n",
              "      fill: #D2E3FC;\n",
              "    }\n",
              "\n",
              "    [theme=dark] .colab-df-convert:hover {\n",
              "      background-color: #434B5C;\n",
              "      box-shadow: 0px 1px 3px 1px rgba(0, 0, 0, 0.15);\n",
              "      filter: drop-shadow(0px 1px 2px rgba(0, 0, 0, 0.3));\n",
              "      fill: #FFFFFF;\n",
              "    }\n",
              "  </style>\n",
              "\n",
              "    <script>\n",
              "      const buttonEl =\n",
              "        document.querySelector('#df-7ca3071f-07fb-4219-af31-9b17d4218ffb button.colab-df-convert');\n",
              "      buttonEl.style.display =\n",
              "        google.colab.kernel.accessAllowed ? 'block' : 'none';\n",
              "\n",
              "      async function convertToInteractive(key) {\n",
              "        const element = document.querySelector('#df-7ca3071f-07fb-4219-af31-9b17d4218ffb');\n",
              "        const dataTable =\n",
              "          await google.colab.kernel.invokeFunction('convertToInteractive',\n",
              "                                                    [key], {});\n",
              "        if (!dataTable) return;\n",
              "\n",
              "        const docLinkHtml = 'Like what you see? Visit the ' +\n",
              "          '<a target=\"_blank\" href=https://colab.research.google.com/notebooks/data_table.ipynb>data table notebook</a>'\n",
              "          + ' to learn more about interactive tables.';\n",
              "        element.innerHTML = '';\n",
              "        dataTable['output_type'] = 'display_data';\n",
              "        await google.colab.output.renderOutput(dataTable, element);\n",
              "        const docLink = document.createElement('div');\n",
              "        docLink.innerHTML = docLinkHtml;\n",
              "        element.appendChild(docLink);\n",
              "      }\n",
              "    </script>\n",
              "  </div>\n",
              "\n",
              "\n",
              "<div id=\"df-ed53872b-76fd-4d59-bb4e-165a61d543a0\">\n",
              "  <button class=\"colab-df-quickchart\" onclick=\"quickchart('df-ed53872b-76fd-4d59-bb4e-165a61d543a0')\"\n",
              "            title=\"Suggest charts.\"\n",
              "            style=\"display:none;\">\n",
              "\n",
              "<svg xmlns=\"http://www.w3.org/2000/svg\" height=\"24px\"viewBox=\"0 0 24 24\"\n",
              "     width=\"24px\">\n",
              "    <g>\n",
              "        <path d=\"M19 3H5c-1.1 0-2 .9-2 2v14c0 1.1.9 2 2 2h14c1.1 0 2-.9 2-2V5c0-1.1-.9-2-2-2zM9 17H7v-7h2v7zm4 0h-2V7h2v10zm4 0h-2v-4h2v4z\"/>\n",
              "    </g>\n",
              "</svg>\n",
              "  </button>\n",
              "\n",
              "<style>\n",
              "  .colab-df-quickchart {\n",
              "      --bg-color: #E8F0FE;\n",
              "      --fill-color: #1967D2;\n",
              "      --hover-bg-color: #E2EBFA;\n",
              "      --hover-fill-color: #174EA6;\n",
              "      --disabled-fill-color: #AAA;\n",
              "      --disabled-bg-color: #DDD;\n",
              "  }\n",
              "\n",
              "  [theme=dark] .colab-df-quickchart {\n",
              "      --bg-color: #3B4455;\n",
              "      --fill-color: #D2E3FC;\n",
              "      --hover-bg-color: #434B5C;\n",
              "      --hover-fill-color: #FFFFFF;\n",
              "      --disabled-bg-color: #3B4455;\n",
              "      --disabled-fill-color: #666;\n",
              "  }\n",
              "\n",
              "  .colab-df-quickchart {\n",
              "    background-color: var(--bg-color);\n",
              "    border: none;\n",
              "    border-radius: 50%;\n",
              "    cursor: pointer;\n",
              "    display: none;\n",
              "    fill: var(--fill-color);\n",
              "    height: 32px;\n",
              "    padding: 0;\n",
              "    width: 32px;\n",
              "  }\n",
              "\n",
              "  .colab-df-quickchart:hover {\n",
              "    background-color: var(--hover-bg-color);\n",
              "    box-shadow: 0 1px 2px rgba(60, 64, 67, 0.3), 0 1px 3px 1px rgba(60, 64, 67, 0.15);\n",
              "    fill: var(--button-hover-fill-color);\n",
              "  }\n",
              "\n",
              "  .colab-df-quickchart-complete:disabled,\n",
              "  .colab-df-quickchart-complete:disabled:hover {\n",
              "    background-color: var(--disabled-bg-color);\n",
              "    fill: var(--disabled-fill-color);\n",
              "    box-shadow: none;\n",
              "  }\n",
              "\n",
              "  .colab-df-spinner {\n",
              "    border: 2px solid var(--fill-color);\n",
              "    border-color: transparent;\n",
              "    border-bottom-color: var(--fill-color);\n",
              "    animation:\n",
              "      spin 1s steps(1) infinite;\n",
              "  }\n",
              "\n",
              "  @keyframes spin {\n",
              "    0% {\n",
              "      border-color: transparent;\n",
              "      border-bottom-color: var(--fill-color);\n",
              "      border-left-color: var(--fill-color);\n",
              "    }\n",
              "    20% {\n",
              "      border-color: transparent;\n",
              "      border-left-color: var(--fill-color);\n",
              "      border-top-color: var(--fill-color);\n",
              "    }\n",
              "    30% {\n",
              "      border-color: transparent;\n",
              "      border-left-color: var(--fill-color);\n",
              "      border-top-color: var(--fill-color);\n",
              "      border-right-color: var(--fill-color);\n",
              "    }\n",
              "    40% {\n",
              "      border-color: transparent;\n",
              "      border-right-color: var(--fill-color);\n",
              "      border-top-color: var(--fill-color);\n",
              "    }\n",
              "    60% {\n",
              "      border-color: transparent;\n",
              "      border-right-color: var(--fill-color);\n",
              "    }\n",
              "    80% {\n",
              "      border-color: transparent;\n",
              "      border-right-color: var(--fill-color);\n",
              "      border-bottom-color: var(--fill-color);\n",
              "    }\n",
              "    90% {\n",
              "      border-color: transparent;\n",
              "      border-bottom-color: var(--fill-color);\n",
              "    }\n",
              "  }\n",
              "</style>\n",
              "\n",
              "  <script>\n",
              "    async function quickchart(key) {\n",
              "      const quickchartButtonEl =\n",
              "        document.querySelector('#' + key + ' button');\n",
              "      quickchartButtonEl.disabled = true;  // To prevent multiple clicks.\n",
              "      quickchartButtonEl.classList.add('colab-df-spinner');\n",
              "      try {\n",
              "        const charts = await google.colab.kernel.invokeFunction(\n",
              "            'suggestCharts', [key], {});\n",
              "      } catch (error) {\n",
              "        console.error('Error during call to suggestCharts:', error);\n",
              "      }\n",
              "      quickchartButtonEl.classList.remove('colab-df-spinner');\n",
              "      quickchartButtonEl.classList.add('colab-df-quickchart-complete');\n",
              "    }\n",
              "    (() => {\n",
              "      let quickchartButtonEl =\n",
              "        document.querySelector('#df-ed53872b-76fd-4d59-bb4e-165a61d543a0 button');\n",
              "      quickchartButtonEl.style.display =\n",
              "        google.colab.kernel.accessAllowed ? 'block' : 'none';\n",
              "    })();\n",
              "  </script>\n",
              "</div>\n",
              "    </div>\n",
              "  </div>\n"
            ]
          },
          "metadata": {},
          "execution_count": 18
        }
      ],
      "source": [
        "\n",
        "ratings"
      ]
    },
    {
      "cell_type": "code",
      "execution_count": 44,
      "metadata": {
        "id": "psfK_Z_Nb2hE"
      },
      "outputs": [],
      "source": [
        "import pandas as pd\n",
        "\n",
        "median_count_reviews = filtered_data['count_reviews'].median()\n",
        "filtered_data = filtered_data[filtered_data['count_reviews'] >= median_count_reviews]\n",
        "print(filtered_data)"
      ]
    },
    {
      "cell_type": "markdown",
      "metadata": {
        "id": "pM5IUARab2hG"
      },
      "source": [
        "Теперь рассмотрим таблицу `anime`.\n",
        "\n",
        "\n",
        "Так же применим критерий шавене.\n",
        "\n",
        "Искать выбросы стоит по столбцу `rating` или по `members` или по обоим сразу.\n",
        "\n",
        "### 8. Используйте функцию chauvenet и найдите все выбросы среди аниме. И удалите их.\n",
        "\n",
        "**Hint** Используйте [drop](https://pandas.pydata.org/pandas-docs/stable/reference/api/pandas.DataFrame.drop.html) и [index](https://pandas.pydata.org/pandas-docs/stable/reference/api/pandas.DataFrame.index.html)"
      ]
    },
    {
      "cell_type": "code",
      "execution_count": 20,
      "metadata": {
        "id": "yRMPTUkib2hH",
        "colab": {
          "base_uri": "https://localhost:8080/"
        },
        "outputId": "28c96406-5455-4bae-d147-18790918720e"
      },
      "outputs": [
        {
          "output_type": "stream",
          "name": "stdout",
          "text": [
            "       anime_id                                               name  \\\n",
            "41        32366                         Gintama°: Aizome Kaori-hen   \n",
            "212       31490                               One Piece Film: Gold   \n",
            "227        6467  Detective Conan Movie 14: The Lost Ship in the...   \n",
            "229       22507                              Initial D Final Stage   \n",
            "231       19123  One Piece: Episode of Merry - Mou Hitori no Na...   \n",
            "...         ...                                                ...   \n",
            "11239      5719                                        Sex Pistols   \n",
            "11251      5784                                Ai no Kusabi (2012)   \n",
            "11285      4473                                        Shoujo Sect   \n",
            "11310      8918                                Princess Lover! OVA   \n",
            "11681       651                   Green Green Thirteen: Erolutions   \n",
            "\n",
            "                                                   genre     type episodes  \\\n",
            "41                                        Comedy, Parody      OVA        2   \n",
            "212    Action, Adventure, Comedy, Drama, Fantasy, Sho...    Movie        1   \n",
            "227                     Action, Mystery, Police, Shounen    Movie        1   \n",
            "229                                 Cars, Seinen, Sports       TV        4   \n",
            "231    Action, Adventure, Comedy, Drama, Fantasy, Sho...  Special        1   \n",
            "...                                                  ...      ...      ...   \n",
            "11239                  Comedy, Drama, Supernatural, Yaoi      OVA        2   \n",
            "11251                       Drama, Romance, Sci-Fi, Yaoi      OVA        4   \n",
            "11285                      Comedy, Hentai, Romance, Yuri      OVA        3   \n",
            "11310                                             Hentai      OVA        2   \n",
            "11681                            Comedy, Hentai, Romance      OVA        1   \n",
            "\n",
            "       rating  members  \n",
            "41       8.69    16947  \n",
            "212      8.32    18642  \n",
            "227      8.29    20602  \n",
            "229      8.29    19702  \n",
            "231      8.29    17247  \n",
            "...       ...      ...  \n",
            "11239    7.00    15885  \n",
            "11251    6.97    17943  \n",
            "11285    6.89    16527  \n",
            "11310    6.84    17437  \n",
            "11681    6.26    17805  \n",
            "\n",
            "[370 rows x 7 columns]\n"
          ]
        },
        {
          "output_type": "stream",
          "name": "stderr",
          "text": [
            "/usr/local/lib/python3.10/dist-packages/scipy/stats/_morestats.py:1882: UserWarning: p-value may not be accurate for N > 5000.\n",
            "  warnings.warn(\"p-value may not be accurate for N > 5000.\")\n"
          ]
        }
      ],
      "source": [
        "import pandas as pd\n",
        "import numpy as np\n",
        "from scipy.stats import shapiro\n",
        "\n",
        "def chauvenet(data, alpha=0.05):\n",
        "    mean = np.mean(data)\n",
        "    std_dev = np.std(data, ddof=1)\n",
        "    n = len(data)\n",
        "    p_values = 2 * (1 - shapiro_wilk_test(data))\n",
        "    criterion = n * p_values / (2 * np.sqrt(2 * np.log(n)))\n",
        "    outliers = abs(data - mean) > criterion\n",
        "\n",
        "    return outliers\n",
        "rating_outliers = chauvenet(anime['rating'])\n",
        "members_outliers = chauvenet(anime['members'])\n",
        "all_outliers = rating_outliers | members_outliers\n",
        "anime = anime[~all_outliers]\n",
        "print(anime)\n"
      ]
    },
    {
      "cell_type": "markdown",
      "metadata": {
        "id": "MPL12FNQb2hK"
      },
      "source": [
        "### 9. Ответье на вопросы\n",
        "\n",
        "#### Что критерий посчитал выбросом?\n",
        "\n",
        "#### Почему критерий посчитал их выбросом?\n",
        "\n",
        "#### Можем ли мы как то использовать эти аниме в нашей рекомендательное системе?"
      ]
    },
    {
      "cell_type": "markdown",
      "metadata": {
        "id": "WMz-EvSFb2hL"
      },
      "source": [
        "**Ответы:**"
      ]
    },
    {
      "cell_type": "markdown",
      "metadata": {
        "id": "-MCsZX8rb2hL"
      },
      "source": [
        "## Кластеризация по жанрам"
      ]
    },
    {
      "cell_type": "markdown",
      "metadata": {
        "id": "MHZyEqKl5zgm"
      },
      "source": [
        "Данные о жанре хранятся как строка, разделенная запятой `,` . Но нам нужны сами жанры. Придется поколдовать и разделить эту строку на элементы."
      ]
    },
    {
      "cell_type": "code",
      "execution_count": 21,
      "metadata": {
        "id": "x_2Nragqa1N2",
        "colab": {
          "base_uri": "https://localhost:8080/"
        },
        "outputId": "6621fdd9-cab1-4c63-be44-25404a447bd1"
      },
      "outputs": [
        {
          "output_type": "execute_result",
          "data": {
            "text/plain": [
              "[0, 1, 1, 0, 2, 4, 0, 3, 9, 0, 4, 16, 0, 5, 25]"
            ]
          },
          "metadata": {},
          "execution_count": 21
        }
      ],
      "source": [
        "from itertools import chain\n",
        "'''\n",
        "Нам нужна функция flatmap.\n",
        "Flatmap получает на вход список, на каждом элементе вызывает функцию f, которая возвращает другой список.\n",
        "В результате получается список списков. В конфе происходит flatten - уплощение списка скписков в один список.\n",
        "'''\n",
        "def flatmap(f, items):\n",
        "    return chain.from_iterable(map(f, items))\n",
        "\n",
        "# пример использования\n",
        "list(flatmap(lambda x: [0, x , x*x], [1,2,3,4,5]))\n",
        "# Первый шаг: [[0, 1, 1], [0, 2, 4], [0, 3, 9], [0, 4, 16], [0, 5, 25]]"
      ]
    },
    {
      "cell_type": "code",
      "execution_count": 22,
      "metadata": {
        "id": "JMm-sCdXa1OF",
        "tags": [],
        "colab": {
          "base_uri": "https://localhost:8080/"
        },
        "outputId": "a1737312-5d0a-409f-a013-973ad24a4719"
      },
      "outputs": [
        {
          "output_type": "stream",
          "name": "stdout",
          "text": [
            "m_uniq[0:10] = ['Comedy, Parody' 'Action, Adventure, Comedy, Drama, Fantasy, Shounen'\n",
            " 'Action, Mystery, Police, Shounen' 'Cars, Seinen, Sports'\n",
            " 'Action, Adventure, Comedy, Drama, Fantasy, Shounen, Super Power'\n",
            " 'Drama, Shoujo' 'Comedy, Drama, Shounen, Sports'\n",
            " 'Comedy, School, Shounen, Sports'\n",
            " 'Fantasy, Sci-Fi, Shounen, Slice of Life'\n",
            " 'Adventure, Comedy, Mystery, Police, Shounen']\n",
            "len= 299\n",
            "\n",
            "Genres=['Mystery', 'Ecchi', 'Drama', 'Horror', 'Military', 'Hentai', 'Romance', 'Demons', 'Slice of Life', 'Action', 'Martial Arts', 'Dementia', 'Yuri', 'Fantasy', 'Shoujo Ai', 'Historical', 'Supernatural', 'Super Power', 'Cars', 'Shounen', 'School', 'Shounen Ai', 'Mecha', 'Parody', 'Samurai', 'Sports', 'Space', 'Music', 'Seinen', 'Sci-Fi', 'Psychological', 'Thriller', 'Game', 'Shoujo', 'Magic', 'Police', 'Kids', 'Comedy', 'Harem', 'Adventure', 'Josei', 'Yaoi', 'Vampire']\n",
            "len=43\n"
          ]
        }
      ],
      "source": [
        "# создаем функцию, которая просто разбивает строку по символу \", \" на подстроки\n",
        "def genre_splitter(genre_names):\n",
        "    return genre_names.split(\", \")\n",
        "\n",
        "m_uniq = anime['genre'].unique() # смотрим сколько всего уникальных комбинация genres есть в датасете\n",
        "print(\"m_uniq[0:10] = {}\\nlen= {}\\n\".format(m_uniq[0:10], len(m_uniq))) # как видим комбинаций очень много, так как там все композиции\n",
        "\n",
        "genres = set(flatmap(genre_splitter, m_uniq)) # разбиваем все genres на составные части и генерируем один массив из всех жанров. Строим по массиву множество уникальных жанров\n",
        "\n",
        "genres = list(genres) # множество превращаем в список\n",
        "print(\"Genres={}\\nlen={}\".format(genres, len(genres)))"
      ]
    },
    {
      "cell_type": "markdown",
      "metadata": {
        "id": "Oa6hsGvs6Plt"
      },
      "source": [
        "### 10. Создадим новую таблицу, где в колонках будет жанр, в строках аниме, а в ячейках 1 если у фильма есть этот жанр и 0 в противном случае.\n",
        "\n",
        "Такой формат таблиц называтеся one-hot-encoding. Только в нашем случае в каждой строке будет не одна единица, а несколько, так как у аниме как правило несолько жанров.\n",
        "\n",
        "Уточнение: жанры должны быть индексами столбцов (columns), а id аниме - индексами строк (index)"
      ]
    },
    {
      "cell_type": "code",
      "execution_count": 23,
      "metadata": {
        "id": "f4kWGYLva1OI",
        "tags": [],
        "colab": {
          "base_uri": "https://localhost:8080/"
        },
        "outputId": "0d0b806c-b69a-4b41-bf0f-fdbbd8d8b94c"
      },
      "outputs": [
        {
          "output_type": "stream",
          "name": "stdout",
          "text": [
            "       Comedy  Parody  Action  Adventure  Drama  Fantasy  Shounen  Mystery  \\\n",
            "41        1.0     1.0     NaN        NaN    NaN      NaN      NaN      NaN   \n",
            "212       1.0     NaN     1.0        1.0    1.0      1.0      1.0      NaN   \n",
            "227       NaN     NaN     1.0        NaN    NaN      NaN      1.0      1.0   \n",
            "229       NaN     NaN     NaN        NaN    NaN      NaN      NaN      NaN   \n",
            "231       1.0     NaN     1.0        1.0    1.0      1.0      1.0      NaN   \n",
            "...       ...     ...     ...        ...    ...      ...      ...      ...   \n",
            "11239     1.0     NaN     NaN        NaN    1.0      NaN      NaN      NaN   \n",
            "11251     NaN     NaN     NaN        NaN    1.0      NaN      NaN      NaN   \n",
            "11285     1.0     NaN     NaN        NaN    NaN      NaN      NaN      NaN   \n",
            "11310     NaN     NaN     NaN        NaN    NaN      NaN      NaN      NaN   \n",
            "11681     1.0     NaN     NaN        NaN    NaN      NaN      NaN      NaN   \n",
            "\n",
            "       Police  Cars  ...  Samurai  Psychological  Thriller  Josei  Game  \\\n",
            "41        NaN   NaN  ...      NaN            NaN       NaN    NaN   NaN   \n",
            "212       NaN   NaN  ...      NaN            NaN       NaN    NaN   NaN   \n",
            "227       1.0   NaN  ...      NaN            NaN       NaN    NaN   NaN   \n",
            "229       NaN   1.0  ...      NaN            NaN       NaN    NaN   NaN   \n",
            "231       NaN   NaN  ...      NaN            NaN       NaN    NaN   NaN   \n",
            "...       ...   ...  ...      ...            ...       ...    ...   ...   \n",
            "11239     NaN   NaN  ...      NaN            NaN       NaN    NaN   NaN   \n",
            "11251     NaN   NaN  ...      NaN            NaN       NaN    NaN   NaN   \n",
            "11285     NaN   NaN  ...      NaN            NaN       NaN    NaN   NaN   \n",
            "11310     NaN   NaN  ...      NaN            NaN       NaN    NaN   NaN   \n",
            "11681     NaN   NaN  ...      NaN            NaN       NaN    NaN   NaN   \n",
            "\n",
            "       Shounen Ai  Dementia  Hentai  Yaoi  Yuri  \n",
            "41            NaN       NaN     NaN   NaN   NaN  \n",
            "212           NaN       NaN     NaN   NaN   NaN  \n",
            "227           NaN       NaN     NaN   NaN   NaN  \n",
            "229           NaN       NaN     NaN   NaN   NaN  \n",
            "231           NaN       NaN     NaN   NaN   NaN  \n",
            "...           ...       ...     ...   ...   ...  \n",
            "11239         NaN       NaN     NaN   1.0   NaN  \n",
            "11251         NaN       NaN     NaN   1.0   NaN  \n",
            "11285         NaN       NaN     1.0   NaN   1.0  \n",
            "11310         NaN       NaN     1.0   NaN   NaN  \n",
            "11681         NaN       NaN     1.0   NaN   NaN  \n",
            "\n",
            "[370 rows x 43 columns]\n"
          ]
        }
      ],
      "source": [
        "import pandas as pd\n",
        "\n",
        "anime['genre'] = anime['genre'].str.split(', ')\n",
        "one_hot_encoding = pd.DataFrame(0, index=anime.index, columns=[])\n",
        "for index, row in anime.iterrows():\n",
        "    for genre in row['genre']:\n",
        "        one_hot_encoding.at[index, genre] = 1\n",
        "print(one_hot_encoding)\n"
      ]
    },
    {
      "cell_type": "markdown",
      "metadata": {
        "id": "r33UeY26a1OL"
      },
      "source": [
        "Итак, у нас есть следующие таблицы:\n",
        "- Жанры аниме - в строчках аниме, в столбцах жанр аниме, а в ячейках 0 или 1.\n",
        "- Рейтинги - в строчках пользователи, в столбцах id аниме и рейтинг\n",
        "\n",
        "Нужно получить другую таблицу, в которой в строках будут пользователи, а в столбцах жанры аниме. А в ячейках средняя оценка жанра этим пользователем.\n",
        "\n",
        "Средняя оценка жанра вычисляется следующим образом: берём все отзывы пользователя. Группируем все его отзывы по жанрам и считаем средний рейтинг, который он ставит аниме с данным жанром.\n",
        "\n",
        "Выполним следущие шаги.\n",
        "\n",
        "### 11. Соединим две таблицы:<br>\n",
        "1. жанры по каждому аниме<br>\n",
        "2. оценки аниме от людей. Кстати, один человек мог посмотреть 1 аниме или 100, но не все!<br>\n",
        "\n",
        "Получим таблицу, где строк будет N*M штук, где N - количество юзеров и M - количество аниме"
      ]
    },
    {
      "cell_type": "code",
      "execution_count": 43,
      "metadata": {
        "id": "-UZ89H8ra1OM"
      },
      "outputs": [],
      "source": [
        "import pandas as pd\n",
        "import numpy as np\n",
        "\n",
        "user_anime_ratings = pd.pivot_table(ratings, index='user_id', columns='anime_id', values='rating')\n",
        "user_anime_ratings = user_anime_ratings.fillna(0)\n",
        "genre_ratings = user_anime_ratings.dot(one_hot_encoding)\n",
        "print(genre_ratings)"
      ]
    },
    {
      "cell_type": "markdown",
      "metadata": {
        "id": "nd5AyQk7a1OP"
      },
      "source": [
        "С такой таблицей `(N*M) * G` вы всё еще не можем работать.  \n",
        "### 12. Сгруппируем строки по пользователям (колонка `userId`).  В группах посчитаем среднюю оценку на жанр. А если пользователь не смотрел фильм, то поставим ему `-1` в соответсвующую ячейку.\n",
        "Чтобы посчитать среднее(mean) без учета непросмотренных аниме замените все `0` на `np.NaN`"
      ]
    },
    {
      "cell_type": "code",
      "execution_count": 42,
      "metadata": {
        "id": "NZUl41QBa1OP",
        "tags": []
      },
      "outputs": [],
      "source": [
        "import pandas as pd\n",
        "import numpy as np\n",
        "\n",
        "user_anime_ratings = pd.pivot_table(ratings, index='user_id', columns='anime_id', values='rating')\n",
        "user_anime_ratings = user_anime_ratings.replace(0, np.nan)\n",
        "user_genre_ratings = user_anime_ratings.dot(one_hot_encoding)\n",
        "user_genre_ratings = user_genre_ratings.fillna(-1)\n",
        "print(user_genre_ratings)"
      ]
    },
    {
      "cell_type": "markdown",
      "metadata": {
        "id": "FQ9UuFn0b2hX"
      },
      "source": [
        "Так как некоторые пользователи не смотрели ничего из некоторых жанров, в данных осталось много `np.NaN`\n",
        "### 13. Заполните все NaN на -1\n",
        "\n",
        "**Hint** [fillna](https://pandas.pydata.org/pandas-docs/stable/reference/api/pandas.DataFrame.fillna.html)"
      ]
    },
    {
      "cell_type": "code",
      "execution_count": 41,
      "metadata": {
        "id": "uDoXl9XFb2hY",
        "tags": []
      },
      "outputs": [],
      "source": [
        "user_genre_ratings = user_genre_ratings.fillna(-1)\n",
        "\n"
      ]
    },
    {
      "cell_type": "markdown",
      "metadata": {
        "id": "1wo_Sod-a1OT"
      },
      "source": [
        "Прежде чем начать обучать kMeans...\n",
        "\n",
        "### 14. Отмасштабируйте признаки.\n",
        "\n",
        "Как мы знаем по лекции, метрическим алгоритмам, одним из которых и является kMeans, лучше подавать на вход данные одного масштаба.  Этим и занимается метод MinMaxScaler из sklearn.\n",
        "\n",
        "[Документация](https://scikit-learn.org/stable/modules/generated/sklearn.preprocessing.MinMaxScaler.html)\n",
        "\n",
        "Алгоритм его работы:\n",
        "```\n",
        "X_std = (X - X.min(axis=0)) / (X.max(axis=0) - X.min(axis=0))\n",
        "X_scaled = X_std * (max - min) + min\n",
        "```"
      ]
    },
    {
      "cell_type": "code",
      "execution_count": 41,
      "metadata": {
        "id": "YOjZgEy1a1OU"
      },
      "outputs": [],
      "source": [
        "from sklearn.preprocessing import MinMaxScaler\n",
        "\n",
        "scaler = MinMaxScaler()\n",
        "scaled_user_genre_ratings = scaler.fit_transform(user_genre_ratings)\n",
        "scaled_user_genre_ratings = pd.DataFrame(scaled_user_genre_ratings, columns=user_genre_ratings.columns, index=user_genre_ratings.index)\n",
        "print(scaled_user_genre_ratings)"
      ]
    },
    {
      "cell_type": "markdown",
      "metadata": {
        "id": "FtnFeq5--WYV"
      },
      "source": [
        "### 15.Натренируйте kMeans с 10 кластерами на полученных данных"
      ]
    },
    {
      "cell_type": "code",
      "execution_count": 40,
      "metadata": {
        "id": "5P8wbyKs-2ss"
      },
      "outputs": [],
      "source": [
        "from sklearn.cluster import KMeans\n",
        "\n",
        "kmeans = KMeans(n_clusters=10)\n",
        "kmeans.fit(scaled_user_genre_ratings)\n",
        "cluster_labels = kmeans.labels_\n",
        "print(cluster_labels)"
      ]
    },
    {
      "cell_type": "markdown",
      "metadata": {
        "id": "V9Pn5DMHa1OX"
      },
      "source": [
        "### 16. Нарисуйте на графике центры кластеров нашего датасета оценок фильмов.\n",
        "\n",
        "В нем будет 10 строчек - 10 кластеров. И 43 столбцов - 43 жанров фильмов.\n",
        "\n",
        "Из графика мы поймем какие жанры обычно смотрят вместе. По сути мы получили кластеры предпочтений людей.\n",
        "\n",
        "**Hint** [Heatmap](https://seaborn.pydata.org/generated/seaborn.heatmap.html)"
      ]
    },
    {
      "cell_type": "code",
      "execution_count": 39,
      "metadata": {
        "id": "FyGW-7-6a1OY",
        "tags": []
      },
      "outputs": [],
      "source": [
        "import seaborn as sns\n",
        "import matplotlib.pyplot as plt\n",
        "\n",
        "cluster_centers = kmeans.cluster_centers\n",
        "cluster_center_df = pd.DataFrame(cluster_centers, columns=scaled_user_genre_ratings.columns)\n",
        "plt.figure(figsize=(12, 8))\n",
        "sns.heatmap(cluster_center_df, cmap='YlGnBu')\n",
        "plt.title(\"Центры кластеров по жанрам\")\n",
        "plt.show()"
      ]
    },
    {
      "cell_type": "markdown",
      "metadata": {
        "id": "f8kEhXm4b2hg"
      },
      "source": [
        "# Как выбрать нужное число кластеров\n",
        "\n",
        "Такие методы как KMeans, Spectral clustering, Ward hierarchical clustering, Agglomerative clustering требуют количество кластеров как параметр. Это так называемый гипер-параметр, и его должен подбирать человек. Но на что человеку опираться при выборе? На некоторый функционал \"качества\"!\n",
        "\n",
        "Вспомним идею кластеризации:\n",
        "- минимизация внутрикластерного расстояния\n",
        "- максимизация межкластерного расстояния\n",
        "\n",
        "Другими словами - кучки кучнее и дальше друг от друга.\n",
        "\n",
        "Логично, что мы хотим, чтобы точки распологались кучно возле центров своих кластеров. Но вот незадача: минимум такого функционала будет достигаться тогда, когда кластеров столько же, сколько и точек (то есть каждая точка – это кластер из одного элемента). Для решения этого вопроса (выбора числа кластеров) часто пользуются такой эвристикой: выбирают то число кластеров, начиная с которого описанный функционал $ J(C) $ падает \"уже не так быстро\". Или более формально: $$ D(k) = \\frac{|J(C_k) - J(C_{k+1})|}{|J(C_{k-1}) - J(C_k)|}  \\rightarrow \\min\\limits_k $$\n",
        "\n",
        "Где, в случае kMeans $$ J(C) = \\sum_{k=1}^K\\sum_{i~\\in~C_k} ||x_i - \\mu_k|| \\rightarrow \\min\\limits_C,$$ - сумма квадратов расстояний от точек до центроидов кластеров, к которым они относятся\n",
        "\n",
        "#### Эта ячейка может выполнятся долго!"
      ]
    },
    {
      "cell_type": "code",
      "execution_count": 38,
      "metadata": {
        "id": "DuTFue0rb2hg"
      },
      "outputs": [],
      "source": [
        "inertia = []\n",
        "N = 30\n",
        "for k in tqdm(range(1, N)):\n",
        "    kmeans = KMeans(n_clusters=k).fit(scaler.fit_transform(df))\n",
        "    inertia.append(np.sqrt(kmeans.inertia_))\n",
        "plt.figure(figsize=(10,7))\n",
        "plt.plot(range(1, N), inertia, marker='s');\n",
        "plt.xlabel('$k$')\n",
        "plt.ylabel('$J(C_k)$')"
      ]
    },
    {
      "cell_type": "markdown",
      "metadata": {
        "id": "ulciRrtRb2hi"
      },
      "source": [
        "## Коэффициент силуэта\n",
        "\n",
        "Данный коэффициент не предполагает знания истинных меток объектов, и позволяет оценить качество кластеризации, используя только саму (неразмеченную) выборку и результат кластеризации.\n",
        "\n",
        "Сначала силуэт определяется отдельно для каждого объекта. Обозначим через $a$ - среднее расстояние от данного объекта до объектов из того же кластера, через $b$ - среднее расстояние от данного объекта до объектов из ближайшего кластера (отличного от того, в котором лежит сам объект). Тогда силуэтом данного объекта называется величина: $$s = \\frac{b - a}{\\max(a, b)}.$$ Силуэтом выборки называется средняя величина силуэта объектов данной выборки. Таким образом, силуэт показывает, насколько среднее расстояние до объектов своего кластера отличается от среднего расстояния до объектов других кластеров. Данная величина лежит в диапазоне $[-1, 1]$. Значения, близкие к -1, соответствуют плохим (разрозненным) кластеризациям, значения, близкие к нулю, говорят о том, что кластеры пересекаются и накладываются друг на друга, значения, близкие к 1, соответствуют \"плотным\" четко выделенным кластерам. Таким образом, чем больше силуэт, тем более четко выделены кластеры, и они представляют собой компактные, плотно сгруппированные облака точек.\n",
        "\n",
        "С помощью силуэта можно выбирать оптимальное число кластеров $k$ (если оно заранее неизвестно) - выбирается число кластеров, максимизирующее значение силуэта. В отличие от предыдущих метрик, силуэт зависит от формы кластеров, и достигает больших значений на более выпуклых кластерах, получаемых с помощью алгоритмов, основанных на восстановлении плотности распределения.\n",
        "\n",
        "#### Эта ячейка может выполняться долго!"
      ]
    },
    {
      "cell_type": "code",
      "execution_count": 31,
      "metadata": {
        "id": "BkFhvnhO3TIl"
      },
      "outputs": [],
      "source": [
        "from sklearn.metrics import silhouette_score, silhouette_samples\n",
        "\n",
        "def draw_sil_score(X, range_n_clusters=[2, 3, 4, 5, 6, 10, 12, 13, 20]):\n",
        "    scores = []\n",
        "    for n_clusters in tqdm(range_n_clusters):\n",
        "        clusterer = KMeans(n_clusters=n_clusters, random_state=10)\n",
        "        cluster_labels = clusterer.fit_predict(X)\n",
        "        silhouette_avg = silhouette_score(X, cluster_labels)\n",
        "        scores.append(silhouette_avg)\n",
        "    plt.plot(range_n_clusters, scores)\n",
        "    return range_n_clusters[np.argmax(scores)]"
      ]
    },
    {
      "cell_type": "code",
      "execution_count": null,
      "metadata": {
        "id": "qZXMiFpW3VVN",
        "tags": []
      },
      "outputs": [],
      "source": [
        "draw_sil_score(scaler.fit_transform(df), range(2, 30))"
      ]
    },
    {
      "cell_type": "markdown",
      "metadata": {
        "id": "DE6UbyzUb2hn"
      },
      "source": [
        "### 17. Выберите количество кластеров `k` по методам выше. Натренируйте kMeans и снова нарисуйте heatmap."
      ]
    },
    {
      "cell_type": "code",
      "execution_count": 37,
      "metadata": {
        "id": "2Brw66Ylb2hn",
        "tags": []
      },
      "outputs": [],
      "source": [
        "from sklearn.cluster import KMeans\n",
        "import matplotlib.pyplot as plt\n",
        "\n",
        "inertia = []\n",
        "\n",
        "\n",
        "for k in range(1, 21):\n",
        "    kmeans = KMeans(n_clusters=k)\n",
        "    kmeans.fit(scaled_user_genre_ratings)\n",
        "    inertia.append(kmeans.inertia_)\n",
        "\n",
        "plt.figure(figsize=(8, 6))\n",
        "plt.plot(range(1, 21), inertia, marker='o', linestyle='--')\n",
        "plt.xlabel('Количество кластеров (k)')\n",
        "plt.ylabel('Инерция')\n",
        "plt.title('Метод локтя для выбора оптимального k')\n",
        "plt.grid(True)\n",
        "plt.show()"
      ]
    },
    {
      "cell_type": "markdown",
      "metadata": {
        "id": "EidQaCQOb2hp"
      },
      "source": [
        "### 18. Порекомендуйте что-нибудь абстрактному пользователю.\n",
        "Это можно сделать разными способами. Как это сделать подумайте сами.\n",
        "\n",
        "Если затрудняетесь реализовать это в коде, распишите словами как вы бы это сделали.\n",
        "\n",
        "Возможные варианты решения:\n",
        " * в каждом кластере отсортировать жанры по тому, насколько жанр важен.\n",
        " * взять каждый кластер -> получить все аниме, которые смотрят в этом кластере -> отсортировать по рейтину.\n",
        "\n"
      ]
    },
    {
      "cell_type": "code",
      "execution_count": 36,
      "metadata": {
        "id": "X7bgVPgPb2hp"
      },
      "outputs": [],
      "source": [
        "abstract_user_cluster = 3\n",
        "users_in_cluster = user_genre_ratings[cluster_labels == abstract_user_cluster].index\n",
        "anime_watched_by_cluster = user_anime_ratings.loc[users_in_cluster]\n",
        "average_ratings_in_cluster = anime_watched_by_cluster.mean()\n",
        "recommended_anime = average_ratings_in_cluster.sort_values(ascending=False)\n",
        "top_N_recommendations = recommended_anime.head(10)\n",
        "print(top_N_recommendations)"
      ]
    },
    {
      "cell_type": "markdown",
      "metadata": {
        "id": "nw_-BJfyb2hr"
      },
      "source": [
        "### Extra. Попробуйте как-нибудь улучшить эту рекомендашку. Приведите код или рассуждения на эту тему.\n",
        "\n",
        "Если писать код, то можно:\n",
        " * каждому жанру присвоить свой вес, так как одних жанров сильно много и у них разная смысловая нагрузка. Комедии и экшн встречаются очень часто и врядли кто-то только из-за этих жанров будет смотреть аниме.\n",
        " * предсказывать не по жанрам, а по аниме. Там получится очень большая размерность, так как нужно сделать one-hot-encoding по аниме, но может это даст лучше результат(спойлер: нет). (И для этого надо сделать 4 join'а, что, возможно, убьет ваш компьютер или/и мозг)"
      ]
    },
    {
      "cell_type": "code",
      "execution_count": 35,
      "metadata": {
        "id": "bBNRaStcb2hs"
      },
      "outputs": [],
      "source": [
        "abstract_user_cluster = 3\n",
        "users_in_cluster = user_genre_ratings[cluster_labels == abstract_user_cluster].index\n",
        "anime_watched_by_cluster = user_anime_ratings.loc[users_in_cluster]\n",
        "average_ratings_in_cluster = anime_watched_by_cluster.mean()\n",
        "weighted_ratings = average_ratings_in_cluster * genre_weights\n",
        "recommended_anime = weighted_ratings.sort_values(ascending=False)\n",
        "top_N_recommendations = recommended_anime.head(10)\n",
        "print(top_N_recommendations)"
      ]
    }
  ],
  "metadata": {
    "colab": {
      "provenance": [],
      "include_colab_link": true
    },
    "kernelspec": {
      "display_name": "Python 3",
      "language": "python",
      "name": "python3"
    },
    "language_info": {
      "codemirror_mode": {
        "name": "ipython",
        "version": 3
      },
      "file_extension": ".py",
      "mimetype": "text/x-python",
      "name": "python",
      "nbconvert_exporter": "python",
      "pygments_lexer": "ipython3",
      "version": "3.7.8-final"
    }
  },
  "nbformat": 4,
  "nbformat_minor": 0
}