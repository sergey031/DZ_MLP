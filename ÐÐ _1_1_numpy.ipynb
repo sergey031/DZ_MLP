{
  "cells": [
    {
      "cell_type": "markdown",
      "metadata": {
        "id": "view-in-github",
        "colab_type": "text"
      },
      "source": [
        "<a href=\"https://colab.research.google.com/github/sergey031/DZ_MLP/blob/master/%C3%90%C2%9F%C3%90%C2%A0_1_1_numpy.ipynb\" target=\"_parent\"><img src=\"https://colab.research.google.com/assets/colab-badge.svg\" alt=\"Open In Colab\"/></a>"
      ]
    },
    {
      "cell_type": "markdown",
      "metadata": {
        "id": "qptgxwBNvypV"
      },
      "source": [
        "# Практическая работа 1-1 Numpy\n",
        "\n",
        "1. Скачайте этот ноутбук к себе.\n",
        "2. Заполните пропущенные ячейки, отвечая на заданные вопросы. Там должен быть код! (если не сказано обратное)\n",
        "3. Сохраните результат в своём гитхаб репозитории.\n",
        "\n",
        "#### Полезная литература\n",
        "\n",
        "- http://www.numpy.org/\n",
        "- https://jakevdp.github.io/PythonDataScienceHandbook/02.00-introduction-to-numpy.html\n",
        "- https://docs.scipy.org/doc/numpy/user/quickstart.html"
      ]
    },
    {
      "cell_type": "markdown",
      "metadata": {
        "id": "F-jBj-e2vypa"
      },
      "source": [
        "1) Импортировать numpy и написать версию"
      ]
    },
    {
      "cell_type": "code",
      "execution_count": null,
      "metadata": {
        "colab": {
          "base_uri": "https://localhost:8080/",
          "height": 35
        },
        "id": "Z8ylEidovypa",
        "outputId": "952c9b2d-ef35-49e4-a3c2-52a4bdb3125a"
      },
      "outputs": [
        {
          "output_type": "execute_result",
          "data": {
            "text/plain": [
              "'1.23.5'"
            ],
            "application/vnd.google.colaboratory.intrinsic+json": {
              "type": "string"
            }
          },
          "metadata": {},
          "execution_count": 2
        }
      ],
      "source": [
        "import numpy\n",
        "numpy.__version__"
      ]
    },
    {
      "cell_type": "markdown",
      "metadata": {
        "id": "1VOfJTJNvypb"
      },
      "source": [
        "2) Создать нулевой вектор размера 10"
      ]
    },
    {
      "cell_type": "code",
      "execution_count": null,
      "metadata": {
        "colab": {
          "base_uri": "https://localhost:8080/"
        },
        "id": "xncYI1kjvypb",
        "outputId": "3fc99c3a-f96d-44b9-ba69-7c5103bb59b0"
      },
      "outputs": [
        {
          "output_type": "stream",
          "name": "stdout",
          "text": [
            "[0. 0. 0. 0. 0. 0. 0. 0. 0. 0.]\n"
          ]
        }
      ],
      "source": [
        "import numpy as np\n",
        "x = np.zeros(10)\n",
        "print(x)"
      ]
    },
    {
      "cell_type": "markdown",
      "metadata": {
        "id": "olpWvN_Kvypb"
      },
      "source": [
        "3) Создать вектор заполненный 7-ами размера 7"
      ]
    },
    {
      "cell_type": "code",
      "execution_count": null,
      "metadata": {
        "colab": {
          "base_uri": "https://localhost:8080/"
        },
        "id": "7MiKc9dKvypc",
        "outputId": "ffc65833-8e39-4b7a-9afd-159f461230d6"
      },
      "outputs": [
        {
          "output_type": "stream",
          "name": "stdout",
          "text": [
            "[7 7 7 7 7 7 7]\n"
          ]
        }
      ],
      "source": [
        "import numpy as np\n",
        "\n",
        "vector = np.full(7, 7)\n",
        "print(vector)"
      ]
    },
    {
      "cell_type": "markdown",
      "metadata": {
        "id": "TRH4KZGXvypc"
      },
      "source": [
        "4) Создать вектор заполненный четными числами от 10 до 100"
      ]
    },
    {
      "cell_type": "code",
      "execution_count": null,
      "metadata": {
        "colab": {
          "base_uri": "https://localhost:8080/"
        },
        "id": "hNoeCPHcvypc",
        "outputId": "a06c3df2-a7fb-44d3-8673-0328cc685b93"
      },
      "outputs": [
        {
          "output_type": "stream",
          "name": "stdout",
          "text": [
            "[ 10  12  14  16  18  20  22  24  26  28  30  32  34  36  38  40  42  44\n",
            "  46  48  50  52  54  56  58  60  62  64  66  68  70  72  74  76  78  80\n",
            "  82  84  86  88  90  92  94  96  98 100]\n"
          ]
        }
      ],
      "source": [
        "import numpy as np\n",
        "\n",
        "start = 10\n",
        "end = 100\n",
        "step = 2\n",
        "\n",
        "vector = np.arange(start, end + 1, step)\n",
        "print(vector)\n"
      ]
    },
    {
      "cell_type": "markdown",
      "metadata": {
        "id": "FJ5PpyUivypc"
      },
      "source": [
        "5) Создать массив случайных чисел и развернуть его задом наперёд"
      ]
    },
    {
      "cell_type": "code",
      "execution_count": null,
      "metadata": {
        "colab": {
          "base_uri": "https://localhost:8080/"
        },
        "id": "ZDDINazWvypd",
        "outputId": "2917c894-ac0e-4ac7-fc0e-699b80d6a7bb"
      },
      "outputs": [
        {
          "output_type": "stream",
          "name": "stdout",
          "text": [
            "[37 16 23 93 59 62 27 87 97 49]\n",
            "[49 97 87 27 62 59 93 23 16 37]\n"
          ]
        }
      ],
      "source": [
        "import numpy as np\n",
        "\n",
        "random_array = np.random.randint(0, 101, 10)\n",
        "print(random_array)\n",
        "\n",
        "reversed_array = random_array[::-1]\n",
        "print(reversed_array)\n"
      ]
    },
    {
      "cell_type": "markdown",
      "metadata": {
        "id": "di-cAq5Svypd"
      },
      "source": [
        "6) Создать двумерную матрицу размера 3 на 3, заполненную числами от 0 до 9"
      ]
    },
    {
      "cell_type": "code",
      "execution_count": null,
      "metadata": {
        "colab": {
          "base_uri": "https://localhost:8080/"
        },
        "id": "m15xIffrvypd",
        "outputId": "ffaece50-716f-402a-ee15-cf7c654a4a27"
      },
      "outputs": [
        {
          "output_type": "stream",
          "name": "stdout",
          "text": [
            "[[0 1 2]\n",
            " [3 4 5]\n",
            " [6 7 8]]\n"
          ]
        }
      ],
      "source": [
        "import numpy as np\n",
        "\n",
        "matrix = np.arange(9).reshape(3, 3)\n",
        "\n",
        "print(matrix)\n"
      ]
    },
    {
      "cell_type": "markdown",
      "metadata": {
        "id": "nlbLVzglvypd"
      },
      "source": [
        "7) Создать матрицу размера 4 на 4 с единицами на диагонали смещеной на один наверх."
      ]
    },
    {
      "cell_type": "code",
      "execution_count": null,
      "metadata": {
        "colab": {
          "base_uri": "https://localhost:8080/"
        },
        "id": "L6laYvZEvypd",
        "outputId": "f6fe9ec3-ee21-4264-de4d-15a7269cda06"
      },
      "outputs": [
        {
          "output_type": "stream",
          "name": "stdout",
          "text": [
            "[[0 0 0 0]\n",
            " [1 0 0 0]\n",
            " [0 1 0 0]\n",
            " [0 0 1 0]]\n"
          ]
        }
      ],
      "source": [
        "import numpy as np\n",
        "\n",
        "matrix = np.zeros((4, 4), dtype=int)\n",
        "\n",
        "np.fill_diagonal(matrix[1:], 1)\n",
        "\n",
        "print(matrix)\n"
      ]
    },
    {
      "cell_type": "markdown",
      "metadata": {
        "id": "7sgf6qA7vype"
      },
      "source": [
        "*8*) Создать матрицу с числами в диапазоне от 1 до 4 по диагонали. В других ячейках матрицы должны быть семерки."
      ]
    },
    {
      "cell_type": "code",
      "execution_count": null,
      "metadata": {
        "colab": {
          "base_uri": "https://localhost:8080/"
        },
        "id": "EBw7jG9qvype",
        "outputId": "e93f2ab1-8ebc-4112-e4c2-3d2d1b3ff625"
      },
      "outputs": [
        {
          "output_type": "stream",
          "name": "stdout",
          "text": [
            "[[1 7 7 7]\n",
            " [7 2 7 7]\n",
            " [7 7 3 7]\n",
            " [7 7 7 4]]\n"
          ]
        }
      ],
      "source": [
        "import numpy as np\n",
        "\n",
        "matrix = np.full((4, 4), 7)\n",
        "for i in range(4):\n",
        "    matrix[i, i] = i + 1\n",
        "print(matrix)"
      ]
    },
    {
      "cell_type": "markdown",
      "metadata": {
        "id": "rkWqFLuVvype"
      },
      "source": [
        "9) Создать матрицу размера 5 на 5 заполненную чилами от 0 до 4 в строках."
      ]
    },
    {
      "cell_type": "code",
      "execution_count": null,
      "metadata": {
        "colab": {
          "base_uri": "https://localhost:8080/"
        },
        "id": "mRuqG64tvype",
        "outputId": "666b6606-114e-476f-e034-a1e183052c54"
      },
      "outputs": [
        {
          "output_type": "stream",
          "name": "stdout",
          "text": [
            "[[0 1 2 3 4]\n",
            " [0 1 2 3 4]\n",
            " [0 1 2 3 4]\n",
            " [0 1 2 3 4]\n",
            " [0 1 2 3 4]]\n"
          ]
        }
      ],
      "source": [
        "import numpy as np\n",
        "\n",
        "matrix = np.empty((5, 5), dtype=int)\n",
        "for i in range(5):\n",
        "    matrix[i] = np.arange(5)\n",
        "print(matrix)"
      ]
    },
    {
      "cell_type": "markdown",
      "metadata": {
        "id": "jf_ss3D4vype"
      },
      "source": [
        "10) Создать матрицу случайных чисел размера 10 на 10 и отнять среднее по строкам из каждого элемента строки"
      ]
    },
    {
      "cell_type": "code",
      "execution_count": null,
      "metadata": {
        "colab": {
          "base_uri": "https://localhost:8080/"
        },
        "id": "-BTffvHtvype",
        "outputId": "f41ea955-129b-495c-8703-6e4367f521dc"
      },
      "outputs": [
        {
          "output_type": "stream",
          "name": "stdout",
          "text": [
            "[[0 1 5 2 3 8 1 7 2 4]\n",
            " [7 1 6 7 1 3 6 1 3 5]\n",
            " [8 8 0 1 3 1 1 2 5 5]\n",
            " [1 6 6 7 9 8 2 5 8 3]\n",
            " [5 7 3 8 4 4 3 2 0 5]\n",
            " [7 1 0 3 6 0 0 5 0 7]\n",
            " [7 1 7 7 2 4 2 7 8 8]\n",
            " [7 9 4 0 6 0 3 4 5 6]\n",
            " [4 8 5 2 5 5 4 7 3 7]\n",
            " [6 3 9 8 7 5 1 3 2 2]]\n",
            "[[-3.3 -2.3  1.7 -1.3 -0.3  4.7 -2.3  3.7 -1.3  0.7]\n",
            " [ 3.  -3.   2.   3.  -3.  -1.   2.  -3.  -1.   1. ]\n",
            " [ 4.6  4.6 -3.4 -2.4 -0.4 -2.4 -2.4 -1.4  1.6  1.6]\n",
            " [-4.5  0.5  0.5  1.5  3.5  2.5 -3.5 -0.5  2.5 -2.5]\n",
            " [ 0.9  2.9 -1.1  3.9 -0.1 -0.1 -1.1 -2.1 -4.1  0.9]\n",
            " [ 4.1 -1.9 -2.9  0.1  3.1 -2.9 -2.9  2.1 -2.9  4.1]\n",
            " [ 1.7 -4.3  1.7  1.7 -3.3 -1.3 -3.3  1.7  2.7  2.7]\n",
            " [ 2.6  4.6 -0.4 -4.4  1.6 -4.4 -1.4 -0.4  0.6  1.6]\n",
            " [-1.   3.   0.  -3.   0.   0.  -1.   2.  -2.   2. ]\n",
            " [ 1.4 -1.6  4.4  3.4  2.4  0.4 -3.6 -1.6 -2.6 -2.6]]\n"
          ]
        }
      ],
      "source": [
        "import numpy as np\n",
        "\n",
        "matrix = np.random.randint(0, 10, (10, 10))\n",
        "row_means = np.mean(matrix, axis=1, keepdims=True)\n",
        "normalized_matrix = matrix - row_means\n",
        "\n",
        "print(matrix)\n",
        "print(normalized_matrix)"
      ]
    },
    {
      "cell_type": "markdown",
      "metadata": {
        "id": "ZzAZP8pyvype"
      },
      "source": [
        "*11*) Создать матрицу случайных чисел размера 10 на 10 и отнять медиану по столбцам из каждого элемента столбца  "
      ]
    },
    {
      "cell_type": "code",
      "execution_count": null,
      "metadata": {
        "colab": {
          "base_uri": "https://localhost:8080/"
        },
        "id": "cXE7tuilvypf",
        "outputId": "ffd8e71f-aba7-4725-9301-904ccda1e209"
      },
      "outputs": [
        {
          "output_type": "stream",
          "name": "stdout",
          "text": [
            "[[52 16 12 55 72 27 49 14 65 17]\n",
            " [75 85 18 81 21 12 28 29 16  1]\n",
            " [ 5  9 21 88 70 64 79 98 84 53]\n",
            " [ 5 92 87 37 96 85 12 23 56 81]\n",
            " [45 76 75 34 93 82 13  4 69 40]\n",
            " [99 97 25 52 86 42 62 64 86 67]\n",
            " [98 73 24 77 50 33  6 89  5  3]\n",
            " [79 74 56 32 83 76 70 78 76 14]\n",
            " [66  2 99 31 61 82 36 41 26 60]\n",
            " [84 36 25 50 86 91 28 25 10 10]]\n",
            "[[-18.5 -57.5 -13.    4.   -5.5 -43.   17.  -21.    4.5 -11.5]\n",
            " [  4.5  11.5  -7.   30.  -56.5 -58.   -4.   -6.  -44.5 -27.5]\n",
            " [-65.5 -64.5  -4.   37.   -7.5  -6.   47.   63.   23.5  24.5]\n",
            " [-65.5  18.5  62.  -14.   18.5  15.  -20.  -12.   -4.5  52.5]\n",
            " [-25.5   2.5  50.  -17.   15.5  12.  -19.  -31.    8.5  11.5]\n",
            " [ 28.5  23.5   0.    1.    8.5 -28.   30.   29.   25.5  38.5]\n",
            " [ 27.5  -0.5  -1.   26.  -27.5 -37.  -26.   54.  -55.5 -25.5]\n",
            " [  8.5   0.5  31.  -19.    5.5   6.   38.   43.   15.5 -14.5]\n",
            " [ -4.5 -71.5  74.  -20.  -16.5  12.    4.    6.  -34.5  31.5]\n",
            " [ 13.5 -37.5   0.   -1.    8.5  21.   -4.  -10.  -50.5 -18.5]]\n"
          ]
        }
      ],
      "source": [
        "import numpy as np\n",
        "\n",
        "matrix = np.random.randint(0, 100, (10, 10))\n",
        "column_medians = np.median(matrix, axis=0, keepdims=True)\n",
        "normalized_matrix = matrix - column_medians\n",
        "\n",
        "print(matrix)\n",
        "print(normalized_matrix)"
      ]
    },
    {
      "cell_type": "markdown",
      "metadata": {
        "id": "4jJuJad9vypf"
      },
      "source": [
        "12) Создать матрицу случайных чисел 5x5. Добавить к ней столбецы максимумов и минимумов по строкам. Получится матрица 5x7.  "
      ]
    },
    {
      "cell_type": "code",
      "execution_count": null,
      "metadata": {
        "colab": {
          "base_uri": "https://localhost:8080/"
        },
        "id": "i5EcYWZivypf",
        "outputId": "1f00277c-4339-407f-f250-853ed8605133"
      },
      "outputs": [
        {
          "output_type": "stream",
          "name": "stdout",
          "text": [
            "[[18 74 40 39 85]\n",
            " [44 42 36 25 97]\n",
            " [33 63 70 39 17]\n",
            " [66 20  1 24 77]\n",
            " [38 68 90 85 61]]\n",
            "[[18 74 40 39 85 18 85]\n",
            " [44 42 36 25 97 25 97]\n",
            " [33 63 70 39 17 17 70]\n",
            " [66 20  1 24 77  1 77]\n",
            " [38 68 90 85 61 38 90]]\n"
          ]
        }
      ],
      "source": [
        "import numpy as np\n",
        "\n",
        "matrix = np.random.randint(0, 100, (5, 5))\n",
        "max_column = np.max(matrix, axis=1, keepdims=True)\n",
        "min_column = np.min(matrix, axis=1, keepdims=True)\n",
        "result_matrix = np.hstack((matrix, min_column, max_column))\n",
        "\n",
        "print(matrix)\n",
        "print(result_matrix)"
      ]
    },
    {
      "cell_type": "markdown",
      "metadata": {
        "id": "webF1pCAvypf"
      },
      "source": [
        "13) Вектор чисел от 1 до 51 преобразовать в вектор нечетных чисел и в вектор четных чисел, поменять их размерности, чтобы получились две матрица. Найти произведение этих матриц. Найти обратную матрицу эётого произведения.  "
      ]
    },
    {
      "cell_type": "code",
      "execution_count": 34,
      "metadata": {
        "colab": {
          "base_uri": "https://localhost:8080/"
        },
        "id": "ZQgA3k7rvypf",
        "outputId": "94029a3b-37e5-439e-a471-7d568a845777"
      },
      "outputs": [
        {
          "output_type": "stream",
          "name": "stdout",
          "text": [
            "[[ 1  3  5  7  9]\n",
            " [11 13 15 17 19]\n",
            " [21 23 25 27 29]\n",
            " [31 33 35 37 39]\n",
            " [41 43 45 47 49]]\n",
            "[[ 2  4  6  8 10]\n",
            " [12 14 16 18 20]\n",
            " [22 24 26 28 30]\n",
            " [32 34 36 38 40]\n",
            " [42 44 46 48 50]]\n",
            "[[ 1  3  5  7  9  1  9]\n",
            " [11 13 15 17 19 11 19]\n",
            " [21 23 25 27 29 21 29]\n",
            " [31 33 35 37 39 31 39]\n",
            " [41 43 45 47 49 41 49]]\n"
          ]
        }
      ],
      "source": [
        "import numpy as np\n",
        "\n",
        "vector = np.arange(1, 52)\n",
        "\n",
        "odd_vector = vector[vector % 2 != 0]\n",
        "even_vector = vector[vector % 2 == 0]\n",
        "\n",
        "odd_matrix = odd_vector[:25].reshape(5, 5)\n",
        "even_matrix = even_vector[:25].reshape(5, 5)\n",
        "print(odd_matrix)\n",
        "print(even_matrix)\n",
        "\n",
        "min_values = np.min(odd_matrix, axis=1)\n",
        "max_values = np.max(odd_matrix, axis=1)\n",
        "\n",
        "odd_matrix_with_ext = np.column_stack((odd_matrix, min_values, max_values))\n",
        "print(odd_matrix_with_ext)"
      ]
    },
    {
      "cell_type": "markdown",
      "metadata": {
        "id": "pBRXfv3ivypf"
      },
      "source": [
        "14) Создать 8x8 матрицу и заполнить её в шахматном порядке нулями и единицами."
      ]
    },
    {
      "cell_type": "code",
      "execution_count": 35,
      "metadata": {
        "id": "mN8LtkA-vypg",
        "colab": {
          "base_uri": "https://localhost:8080/"
        },
        "outputId": "a19af9d1-ecec-49f2-f2c2-83cf4471bcde"
      },
      "outputs": [
        {
          "output_type": "stream",
          "name": "stdout",
          "text": [
            "[[0 1 0 1 0 1 0 1]\n",
            " [1 0 1 0 1 0 1 0]\n",
            " [0 1 0 1 0 1 0 1]\n",
            " [1 0 1 0 1 0 1 0]\n",
            " [0 1 0 1 0 1 0 1]\n",
            " [1 0 1 0 1 0 1 0]\n",
            " [0 1 0 1 0 1 0 1]\n",
            " [1 0 1 0 1 0 1 0]]\n"
          ]
        }
      ],
      "source": [
        "import numpy as np\n",
        "\n",
        "matrix = np.zeros((8, 8), dtype=int)\n",
        "\n",
        "matrix[1::2, ::2] = 1\n",
        "matrix[::2, 1::2] = 1\n",
        "\n",
        "print(matrix)"
      ]
    }
  ],
  "metadata": {
    "kernelspec": {
      "display_name": "Python 3",
      "language": "python",
      "name": "python3"
    },
    "language_info": {
      "codemirror_mode": {
        "name": "ipython",
        "version": 3
      },
      "file_extension": ".py",
      "mimetype": "text/x-python",
      "name": "python",
      "nbconvert_exporter": "python",
      "pygments_lexer": "ipython3",
      "version": "3.8.0"
    },
    "colab": {
      "provenance": [],
      "include_colab_link": true
    }
  },
  "nbformat": 4,
  "nbformat_minor": 0
}